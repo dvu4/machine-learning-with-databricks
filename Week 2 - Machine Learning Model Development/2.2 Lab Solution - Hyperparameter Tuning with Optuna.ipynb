{
 "cells": [
  {
   "cell_type": "markdown",
   "metadata": {
    "application/vnd.databricks.v1+cell": {
     "cellMetadata": {},
     "inputWidgets": {},
     "nuid": "7df90489-8d2f-4c1b-bb83-3dda91bdc896",
     "showTitle": false,
     "tableResultSettingsMap": {},
     "title": ""
    }
   },
   "source": [
    "\n",
    "<div style=\"text-align: center; line-height: 0; padding-top: 9px;\">\n",
    "  <img src=\"https://databricks.com/wp-content/uploads/2018/03/db-academy-rgb-1200px.png\" alt=\"Databricks Learning\">\n",
    "</div>\n"
   ]
  },
  {
   "cell_type": "markdown",
   "metadata": {
    "application/vnd.databricks.v1+cell": {
     "cellMetadata": {},
     "inputWidgets": {},
     "nuid": "ec4f0d1c-ad52-4fcf-b273-280fa9db14e7",
     "showTitle": false,
     "tableResultSettingsMap": {},
     "title": ""
    }
   },
   "source": [
    "\n",
    "# LAB - Hyperparameter Tuning with Optuna\n",
    "\n",
    "Welcome to the Hyperparameter Tuning with Optuna lab! In this hands-on session, you'll gain practical insights into **optimizing machine learning models using Optuna**. Throughout the lab, we'll cover key steps, from loading the dataset and creating training/test sets to **defining a hyperparameter search space and running optimization trials with Spark**. The primary objective is to equip you with the skills to fine-tune models effectively using Spark, Optuna, and MLflow.\n",
    "\n",
    "**Lab Outline:**\n",
    "1. Load the dataset and create training/test sets for a scikit-learn model. \n",
    "1. Define the hyperparameter search space for optimization.\n",
    "1. Define the optimization function to fine-tune the model.\n",
    "1. Run hyperparameter tuning trials. \n",
    "1. Search for runs using the MLflow API and visualize all runs within the MLflow experiment.\n",
    "1. Identify the best run based on the model's precision value programmatically and visually.\n",
    "1. Register the model with Unity Catalog."
   ]
  },
  {
   "cell_type": "markdown",
   "metadata": {
    "application/vnd.databricks.v1+cell": {
     "cellMetadata": {},
     "inputWidgets": {},
     "nuid": "54f9e632-13d4-4026-b8c5-b9c91f1785f3",
     "showTitle": false,
     "tableResultSettingsMap": {},
     "title": ""
    }
   },
   "source": [
    "## REQUIRED - SELECT CLASSIC COMPUTE\n",
    "Before executing cells in this notebook, please select your classic compute cluster in the lab. Be aware that **Serverless** is enabled by default.\n",
    "Follow these steps to select the classic compute cluster:\n",
    "1. Navigate to the top-right of this notebook and click the drop-down menu to select your cluster. By default, the notebook will use **Serverless**.\n",
    "1. If your cluster is available, select it and continue to the next cell. If the cluster is not shown:\n",
    "   - In the drop-down, select **More**.\n",
    "   - In the **Attach to an existing compute resource** pop-up, select the first drop-down. You will see a unique cluster name in that drop-down. Please select that cluster.\n",
    "  \n",
    "**NOTE:** If your cluster has terminated, you might need to restart it in order to select it. To do this:\n",
    "1. Right-click on **Compute** in the left navigation pane and select *Open in new tab*.\n",
    "1. Find the triangle icon to the right of your compute cluster name and click it.\n",
    "1. Wait a few minutes for the cluster to start.\n",
    "1. Once the cluster is running, complete the steps above to select your cluster."
   ]
  },
  {
   "cell_type": "markdown",
   "metadata": {
    "application/vnd.databricks.v1+cell": {
     "cellMetadata": {},
     "inputWidgets": {},
     "nuid": "52bf2ade-f84f-4177-901d-14c17ed2ed7f",
     "showTitle": false,
     "tableResultSettingsMap": {},
     "title": ""
    }
   },
   "source": [
    "## Requirements\n",
    "\n",
    "Please review the following requirements before starting the lesson:\n",
    "\n",
    "* To run this notebook, you need to use one of the following Databricks runtime(s): **16.3.x-cpu-ml-scala2.12**"
   ]
  },
  {
   "cell_type": "markdown",
   "metadata": {
    "application/vnd.databricks.v1+cell": {
     "cellMetadata": {},
     "inputWidgets": {},
     "nuid": "3283a821-3bb7-4706-9d6d-554fbda6d7ec",
     "showTitle": false,
     "tableResultSettingsMap": {},
     "title": ""
    }
   },
   "source": [
    "\n",
    "## Classroom Setup\n",
    "\n",
    "Before starting the lab, run the provided classroom setup script. This script will define configuration variables necessary for the lab. Execute the following cell:"
   ]
  },
  {
   "cell_type": "code",
   "execution_count": 0,
   "metadata": {
    "application/vnd.databricks.v1+cell": {
     "cellMetadata": {
      "byteLimit": 2048000,
      "rowLimit": 10000
     },
     "inputWidgets": {},
     "nuid": "1418d3c5-13b8-4e94-9746-070f08da98a9",
     "showTitle": false,
     "tableResultSettingsMap": {},
     "title": ""
    }
   },
   "outputs": [
    {
     "output_type": "stream",
     "name": "stdout",
     "output_type": "stream",
     "text": [
      "\u001B[43mNote: you may need to restart the kernel using %restart_python or dbutils.library.restartPython() to use updated packages.\u001B[0m\n"
     ]
    }
   ],
   "source": [
    "%pip install -U -qq optuna\n",
    "%restart_python"
   ]
  },
  {
   "cell_type": "code",
   "execution_count": 0,
   "metadata": {
    "application/vnd.databricks.v1+cell": {
     "cellMetadata": {
      "byteLimit": 2048000,
      "rowLimit": 10000
     },
     "inputWidgets": {},
     "nuid": "caaff538-d79f-4d79-9109-dbd7ae29f716",
     "showTitle": false,
     "tableResultSettingsMap": {},
     "title": ""
    }
   },
   "outputs": [
    {
     "output_type": "stream",
     "name": "stdout",
     "output_type": "stream",
     "text": [
      "Collecting databricks-sdk==0.36.0\n  Using cached databricks_sdk-0.36.0-py3-none-any.whl.metadata (38 kB)\nRequirement already satisfied: requests<3,>=2.28.1 in /databricks/python3/lib/python3.12/site-packages (from databricks-sdk==0.36.0) (2.32.2)\nRequirement already satisfied: google-auth~=2.0 in /databricks/python3/lib/python3.12/site-packages (from databricks-sdk==0.36.0) (2.21.0)\nRequirement already satisfied: cachetools<6.0,>=2.0.0 in /databricks/python3/lib/python3.12/site-packages (from google-auth~=2.0->databricks-sdk==0.36.0) (5.3.3)\nRequirement already satisfied: pyasn1-modules>=0.2.1 in /databricks/python3/lib/python3.12/site-packages (from google-auth~=2.0->databricks-sdk==0.36.0) (0.2.8)\nRequirement already satisfied: rsa<5,>=3.1.4 in /databricks/python3/lib/python3.12/site-packages (from google-auth~=2.0->databricks-sdk==0.36.0) (4.9)\nRequirement already satisfied: six>=1.9.0 in /usr/lib/python3/dist-packages (from google-auth~=2.0->databricks-sdk==0.36.0) (1.16.0)\nRequirement already satisfied: urllib3<2.0 in /databricks/python3/lib/python3.12/site-packages (from google-auth~=2.0->databricks-sdk==0.36.0) (1.26.16)\nRequirement already satisfied: charset-normalizer<4,>=2 in /databricks/python3/lib/python3.12/site-packages (from requests<3,>=2.28.1->databricks-sdk==0.36.0) (2.0.4)\nRequirement already satisfied: idna<4,>=2.5 in /databricks/python3/lib/python3.12/site-packages (from requests<3,>=2.28.1->databricks-sdk==0.36.0) (3.7)\nRequirement already satisfied: certifi>=2017.4.17 in /databricks/python3/lib/python3.12/site-packages (from requests<3,>=2.28.1->databricks-sdk==0.36.0) (2024.6.2)\nRequirement already satisfied: pyasn1<0.5.0,>=0.4.6 in /databricks/python3/lib/python3.12/site-packages (from pyasn1-modules>=0.2.1->google-auth~=2.0->databricks-sdk==0.36.0) (0.4.8)\nUsing cached databricks_sdk-0.36.0-py3-none-any.whl (569 kB)\nInstalling collected packages: databricks-sdk\n  Attempting uninstall: databricks-sdk\n    Found existing installation: databricks-sdk 0.30.0\n    Not uninstalling databricks-sdk at /databricks/python3/lib/python3.12/site-packages, outside environment /local_disk0/.ephemeral_nfs/envs/pythonEnv-1118aec7-0c85-46c9-b754-ea465bc6df62\n    Can't uninstall 'databricks-sdk'. No files were found to uninstall.\nSuccessfully installed databricks-sdk-0.36.0\n\u001B[43mNote: you may need to restart the kernel using %restart_python or dbutils.library.restartPython() to use updated packages.\u001B[0m\n"
     ]
    },
    {
     "output_type": "display_data",
     "data": {
      "application/vnd.jupyter.widget-view+json": {
       "model_id": "0ac19970ac5c4ff9956aa0cac2eba59b",
       "version_major": 2,
       "version_minor": 0
      },
      "text/plain": [
       "Downloading artifacts:   0%|          | 0/85 [00:00<?, ?it/s]"
      ]
     },
     "metadata": {},
     "output_type": "display_data"
    },
    {
     "output_type": "display_data",
     "data": {
      "application/vnd.jupyter.widget-view+json": {
       "model_id": "0131049fe6bf4fd7a6b6459954eb9159",
       "version_major": 2,
       "version_minor": 0
      },
      "text/plain": [
       "Uploading artifacts:   0%|          | 0/4 [00:00<?, ?it/s]"
      ]
     },
     "metadata": {},
     "output_type": "display_data"
    }
   ],
   "source": [
    "%run ../Includes/Classroom-Setup-2.2"
   ]
  },
  {
   "cell_type": "markdown",
   "metadata": {
    "application/vnd.databricks.v1+cell": {
     "cellMetadata": {},
     "inputWidgets": {},
     "nuid": "a1f5d058-0e80-4b67-8857-02260c434c2e",
     "showTitle": false,
     "tableResultSettingsMap": {},
     "title": ""
    }
   },
   "source": [
    "**Other Conventions:**\n",
    "\n",
    "Throughout this demo, we'll refer to the object `DA`. This object, provided by Databricks Academy, contains variables such as your username, catalog name, schema name, working directory, and dataset locations. Run the code block below to view these details:"
   ]
  },
  {
   "cell_type": "code",
   "execution_count": 0,
   "metadata": {
    "application/vnd.databricks.v1+cell": {
     "cellMetadata": {
      "byteLimit": 2048000,
      "rowLimit": 10000
     },
     "inputWidgets": {},
     "nuid": "f6f8e858-4675-426a-9e35-e7dcbe40b7ae",
     "showTitle": false,
     "tableResultSettingsMap": {},
     "title": ""
    }
   },
   "outputs": [
    {
     "output_type": "stream",
     "name": "stdout",
     "output_type": "stream",
     "text": [
      "Username:          labuser11091541_1754532261@vocareum.com\nCatalog Name:      dbacademy\nSchema Name:       labuser11091541_1754532261\nWorking Directory: /Volumes/dbacademy/ops/labuser11091541_1754532261@vocareum_com\nDataset Location:  NestedNamespace (california_housing='/Volumes/dbacademy_california_housing/v02', cdc_diabetes='/Volumes/dbacademy_cdc_diabetes/v01', telco='/Volumes/dbacademy_telco/v01', banking='/Volumes/dbacademy_banking/v01')\n"
     ]
    }
   ],
   "source": [
    "print(f\"Username:          {DA.username}\")\n",
    "print(f\"Catalog Name:      {DA.catalog_name}\")\n",
    "print(f\"Schema Name:       {DA.schema_name}\")\n",
    "print(f\"Working Directory: {DA.paths.working_dir}\")\n",
    "print(f\"Dataset Location:  {DA.paths.datasets}\")"
   ]
  },
  {
   "cell_type": "markdown",
   "metadata": {
    "application/vnd.databricks.v1+cell": {
     "cellMetadata": {},
     "inputWidgets": {},
     "nuid": "a26d34cb-a269-4e9f-8955-1af1541bf121",
     "showTitle": false,
     "tableResultSettingsMap": {},
     "title": ""
    }
   },
   "source": [
    "## Prepare Dataset\n",
    "\n",
    "In this lab, you will be using a fictional dataset from a Telecom Company, which includes customer information. This dataset encompasses **customer demographics**, including gender, as well as internet subscription details such as subscription plans and payment methods.\n",
    "\n",
    "In this lab, we will create and tune a model that will predict customer churn based on the **`Churn`** field. \n",
    "\n",
    "A table with all features is already created for you.\n",
    "\n",
    "**Table name: `customer_churn`**"
   ]
  },
  {
   "cell_type": "code",
   "execution_count": 0,
   "metadata": {
    "application/vnd.databricks.v1+cell": {
     "cellMetadata": {
      "byteLimit": 2048000,
      "rowLimit": 10000
     },
     "inputWidgets": {},
     "nuid": "fc0d3b5b-0719-412b-b6f6-9cc2dfb03b40",
     "showTitle": false,
     "tableResultSettingsMap": {},
     "title": ""
    }
   },
   "outputs": [
    {
     "output_type": "stream",
     "name": "stdout",
     "output_type": "stream",
     "text": [
      "We have 6690 records in our training dataset\nWe have 353 records in our test dataset\n"
     ]
    }
   ],
   "source": [
    "import pandas as pd\n",
    "from sklearn.model_selection import train_test_split\n",
    "## load the table from Unity Catalog called custome_churn\n",
    "table_name = f\"{DA.catalog_name}.{DA.schema_name}.customer_churn\"\n",
    "## Read into a PySpark DataFrame and convert to Pandas DataFrame\n",
    "diabetes_dataset = spark.read.table(table_name)\n",
    "customer_pd = diabetes_dataset.drop('CustomerID').toPandas()\n",
    "\n",
    "## split dataset between features and targets. The target variable is Churn\n",
    "target_col = \"Churn\"\n",
    "X_all = customer_pd.drop(labels=target_col, axis=1)\n",
    "y_all = customer_pd[target_col]\n",
    "\n",
    "## test / train split using 95% train/5% test\n",
    "X_train, X_test, y_train, y_test = train_test_split(X_all, y_all, train_size=0.95, random_state=42)\n",
    "print(f\"We have {X_train.shape[0]} records in our training dataset\")\n",
    "print(f\"We have {X_test.shape[0]} records in our test dataset\")"
   ]
  },
  {
   "cell_type": "markdown",
   "metadata": {
    "application/vnd.databricks.v1+cell": {
     "cellMetadata": {},
     "inputWidgets": {},
     "nuid": "859e8e9e-2c4f-4b06-8910-1ed301270392",
     "showTitle": false,
     "tableResultSettingsMap": {},
     "title": ""
    }
   },
   "source": [
    "## Step 1: Define the Search Space and Optimization Function\n",
    "\n",
    "Define the parameter search space for Optuna.\n",
    "\n",
    "Your objective function should meet the following requirements:\n",
    "\n",
    "1. Define the search space using the hyperparameters `max_depth` and `max_features`. For `max_depth`, the search range should be between 5 and 50, while `max_features` should be between 5 and 10. Additionally, for the `criterion` parameter, search based on `gini`, `entropy`, and `log_loss`. \n",
    "1. Enable MLflow run as a nested experiment.\n",
    "1. For each run, log the cross-validation results for `accuracy`, `precision`, `recall`, and `f1`.\n",
    "1. Use **3-fold** cross-validation. Be sure to average the fold results using `.mean()`.\n",
    "1. The objective will be to _maximize_ **`precision`**."
   ]
  },
  {
   "cell_type": "code",
   "execution_count": 0,
   "metadata": {
    "application/vnd.databricks.v1+cell": {
     "cellMetadata": {
      "byteLimit": 2048000,
      "rowLimit": 10000
     },
     "inputWidgets": {},
     "nuid": "89a79548-1edb-424c-bbbf-8d20b6604b7a",
     "showTitle": false,
     "tableResultSettingsMap": {},
     "title": ""
    }
   },
   "outputs": [],
   "source": [
    "import optuna\n",
    "import mlflow\n",
    "import mlflow.sklearn\n",
    "from sklearn.tree import DecisionTreeClassifier\n",
    "from sklearn.model_selection import cross_validate\n",
    "from mlflow.models.signature import infer_signature\n",
    "\n",
    "## Define the objective function\n",
    "def optuna_objective_function(trial):\n",
    "    params = {\n",
    "        'criterion': trial.suggest_categorical('criterion', ['gini', 'entropy', 'log_loss']),\n",
    "        'max_depth': trial.suggest_int('max_depth', 5, 50),\n",
    "        'max_features': trial.suggest_int('max_features', 5, 10)\n",
    "    }\n",
    "    \n",
    "    with mlflow.start_run(nested=True, run_name=f\"Optuna Trial {trial.number}\"):\n",
    "        \n",
    "        ## Train model\n",
    "        dtc = DecisionTreeClassifier(**params)\n",
    "        dtc.fit(X_train, y_train)\n",
    "\n",
    "        ## Perform cross-validation\n",
    "        scoring_metrics = ['accuracy', 'precision', 'recall', 'f1']\n",
    "        cv_results = cross_validate(dtc, X_train, y_train, cv=3, scoring=scoring_metrics)\n",
    "\n",
    "        ## Create input signature using the first row of X_train\n",
    "        input_example = X_train.iloc[[0]]\n",
    "        signature = infer_signature(input_example, dtc.predict(input_example))\n",
    "\n",
    "        ## Compute and log average scores\n",
    "        cv_results_avg = {metric: cv_results[f'test_{metric}'].mean() for metric in scoring_metrics}\n",
    "        mlflow.log_metrics(cv_results_avg)\n",
    "        mlflow.log_params(params)\n",
    "        mlflow.sklearn.log_model(dtc, \"lab_optuna_decision_tree_model\", signature = signature, input_example=input_example)\n",
    "\n",
    "        ## Return precision to maximize it\n",
    "        return cv_results_avg['precision']"
   ]
  },
  {
   "cell_type": "markdown",
   "metadata": {
    "application/vnd.databricks.v1+cell": {
     "cellMetadata": {},
     "inputWidgets": {},
     "nuid": "18ac43e0-c995-459c-8c39-b7a428dcef1c",
     "showTitle": false,
     "tableResultSettingsMap": {},
     "title": ""
    }
   },
   "source": [
    "## Step 2: Create an Optuna Study and Log with MLflow\n",
    "\n",
    "First, we will delete all previous runs to keep our workspace and experiment tidy. Second, you will create an Optuna study and run the experiment with MLflow."
   ]
  },
  {
   "cell_type": "code",
   "execution_count": 0,
   "metadata": {
    "application/vnd.databricks.v1+cell": {
     "cellMetadata": {
      "byteLimit": 2048000,
      "rowLimit": 10000
     },
     "inputWidgets": {},
     "nuid": "77d27e80-86f2-452f-9880-17db7aff9951",
     "showTitle": false,
     "tableResultSettingsMap": {},
     "title": ""
    }
   },
   "outputs": [
    {
     "output_type": "stream",
     "name": "stdout",
     "output_type": "stream",
     "text": [
      "Experiment Name: /Users/labuser11091541_1754532261@vocareum.com/Lab_Optuna_Experiment_labuser11091541_1754532261\nExperiment ID: 4297320214106148\nClearing out old runs (If you want to add more runs, change the n_trial parameter in the next cell) ...\nDeleted run: 39ce6b43585d442b97046ce86fb0f2c5\nDeleted run: e9fab673aca4451fa72cdb1edf62ff2c\nDeleted run: dca00a43054a445e959378034aa1689b\nDeleted run: dedecd1c856f4297b9f496d890cf162c\nDeleted run: 4b3982f804ad4aca96995090d0196638\nDeleted run: ca9b9cbd7eac49d583f91de6d0f224d3\nDeleted run: 6991f0d0f6184e30a045c416b5d49583\nDeleted run: 904b0a8b7a6a422b9aebe6decd0b35a0\nDeleted run: 7a0a6b688e334139bee523df777c2b69\nDeleted run: 780c0f0e84bd41d6bf7c445122447b35\nDeleted run: b907949e1cf142aea12b7581b95f2651\nAll runs have been deleted.\n"
     ]
    }
   ],
   "source": [
    "## Set the MLflow experiment name and get the id\n",
    "experiment_name = f\"/Users/{DA.username}/Lab_Optuna_Experiment_{DA.schema_name}\"\n",
    "print(f\"Experiment Name: {experiment_name}\")\n",
    "mlflow.set_experiment(experiment_name)\n",
    "experiment_id = mlflow.get_experiment_by_name(experiment_name).experiment_id\n",
    "print(f\"Experiment ID: {experiment_id}\")\n",
    "\n",
    "print(\"Clearing out old runs (If you want to add more runs, change the n_trial parameter in the next cell) ...\")\n",
    "## Get all runs\n",
    "runs = mlflow.search_runs(experiment_ids=[experiment_id], output_format=\"pandas\")\n",
    "\n",
    "if runs.empty:\n",
    "    print(\"No runs found in the experiment.\")\n",
    "else:\n",
    "    ## Iterate and delete each run\n",
    "    for run_id in runs[\"run_id\"]:\n",
    "        mlflow.delete_run(run_id)\n",
    "        print(f\"Deleted run: {run_id}\")\n",
    "\n",
    "    print(\"All runs have been deleted.\")"
   ]
  },
  {
   "cell_type": "markdown",
   "metadata": {
    "application/vnd.databricks.v1+cell": {
     "cellMetadata": {},
     "inputWidgets": {},
     "nuid": "b23bdc3a-5280-4dca-9d22-7f1b441413d4",
     "showTitle": false,
     "tableResultSettingsMap": {},
     "title": ""
    }
   },
   "source": [
    "### Create the Study and Log with MLflow\n",
    "\n",
    "#### Instructions:\n",
    "\n",
    "1. Create an Optuna study with name `lab_optuna_hpo`.\n",
    "1. Maximize the objective function. \n",
    "1. Give the parent run the name `Lab_Optuna_Hyperparameter_Optimization`.\n",
    "1. Only run 10 trials with Optuna."
   ]
  },
  {
   "cell_type": "code",
   "execution_count": 0,
   "metadata": {
    "application/vnd.databricks.v1+cell": {
     "cellMetadata": {
      "byteLimit": 2048000,
      "rowLimit": 10000
     },
     "inputWidgets": {},
     "nuid": "b5d2f16d-ae04-4599-9918-3c3679c9b3b1",
     "showTitle": false,
     "tableResultSettingsMap": {},
     "title": ""
    }
   },
   "outputs": [
    {
     "output_type": "stream",
     "name": "stderr",
     "output_type": "stream",
     "text": [
      "[I 2025-08-07 04:07:48,431] A new study created in memory with name: lab_optuna_hpo\n"
     ]
    },
    {
     "output_type": "display_data",
     "data": {
      "application/vnd.jupyter.widget-view+json": {
       "model_id": "738c678b3e4e45bb8b15e412ea42b0a3",
       "version_major": 2,
       "version_minor": 0
      },
      "text/plain": [
       "Uploading artifacts:   0%|          | 0/11 [00:00<?, ?it/s]"
      ]
     },
     "metadata": {},
     "output_type": "display_data"
    },
    {
     "output_type": "display_data",
     "data": {
      "application/vnd.jupyter.widget-view+json": {
       "model_id": "b04dcacfc73f40a18560f5f4cde71bb5",
       "version_major": 2,
       "version_minor": 0
      },
      "text/plain": [
       "Downloading artifacts:   0%|          | 0/11 [00:00<?, ?it/s]"
      ]
     },
     "metadata": {},
     "output_type": "display_data"
    },
    {
     "output_type": "stream",
     "name": "stderr",
     "output_type": "stream",
     "text": [
      "2025/08/07 04:07:54 INFO mlflow.tracking._tracking_service.client: \uD83C\uDFC3 View run Optuna Trial 0 at: dbc-8b9f7bce-656b.cloud.databricks.com/ml/experiments/4297320214106148/runs/94feb8776dfa434f80c652fb42b70f40.\n2025/08/07 04:07:54 INFO mlflow.tracking._tracking_service.client: \uD83E\uDDEA View experiment at: dbc-8b9f7bce-656b.cloud.databricks.com/ml/experiments/4297320214106148.\n[I 2025-08-07 04:07:54,229] Trial 0 finished with value: 0.5647793116863332 and parameters: {'criterion': 'gini', 'max_depth': 10, 'max_features': 8}. Best is trial 0 with value: 0.5647793116863332.\n"
     ]
    },
    {
     "output_type": "display_data",
     "data": {
      "application/vnd.jupyter.widget-view+json": {
       "model_id": "53535c48975d42039c40cda210b23976",
       "version_major": 2,
       "version_minor": 0
      },
      "text/plain": [
       "Uploading artifacts:   0%|          | 0/11 [00:00<?, ?it/s]"
      ]
     },
     "metadata": {},
     "output_type": "display_data"
    },
    {
     "output_type": "display_data",
     "data": {
      "application/vnd.jupyter.widget-view+json": {
       "model_id": "5f812edbd82f41a5933057b7f881df4f",
       "version_major": 2,
       "version_minor": 0
      },
      "text/plain": [
       "Downloading artifacts:   0%|          | 0/11 [00:00<?, ?it/s]"
      ]
     },
     "metadata": {},
     "output_type": "display_data"
    },
    {
     "output_type": "stream",
     "name": "stderr",
     "output_type": "stream",
     "text": [
      "2025/08/07 04:07:59 INFO mlflow.tracking._tracking_service.client: \uD83C\uDFC3 View run Optuna Trial 1 at: dbc-8b9f7bce-656b.cloud.databricks.com/ml/experiments/4297320214106148/runs/cf5500c8d2904e9c8f39b486ff738871.\n2025/08/07 04:07:59 INFO mlflow.tracking._tracking_service.client: \uD83E\uDDEA View experiment at: dbc-8b9f7bce-656b.cloud.databricks.com/ml/experiments/4297320214106148.\n[I 2025-08-07 04:07:59,602] Trial 1 finished with value: 0.5055753042920798 and parameters: {'criterion': 'entropy', 'max_depth': 18, 'max_features': 9}. Best is trial 0 with value: 0.5647793116863332.\n"
     ]
    },
    {
     "output_type": "display_data",
     "data": {
      "application/vnd.jupyter.widget-view+json": {
       "model_id": "d72ebc7f6c8749558d7b0d31532189ad",
       "version_major": 2,
       "version_minor": 0
      },
      "text/plain": [
       "Uploading artifacts:   0%|          | 0/11 [00:00<?, ?it/s]"
      ]
     },
     "metadata": {},
     "output_type": "display_data"
    },
    {
     "output_type": "display_data",
     "data": {
      "application/vnd.jupyter.widget-view+json": {
       "model_id": "3951d1e2bc2949e2b0dde1623f48a9c3",
       "version_major": 2,
       "version_minor": 0
      },
      "text/plain": [
       "Downloading artifacts:   0%|          | 0/11 [00:00<?, ?it/s]"
      ]
     },
     "metadata": {},
     "output_type": "display_data"
    },
    {
     "output_type": "stream",
     "name": "stderr",
     "output_type": "stream",
     "text": [
      "2025/08/07 04:08:04 INFO mlflow.tracking._tracking_service.client: \uD83C\uDFC3 View run Optuna Trial 2 at: dbc-8b9f7bce-656b.cloud.databricks.com/ml/experiments/4297320214106148/runs/6c1de4e822534437bc9b9435f3c4d0e2.\n2025/08/07 04:08:04 INFO mlflow.tracking._tracking_service.client: \uD83E\uDDEA View experiment at: dbc-8b9f7bce-656b.cloud.databricks.com/ml/experiments/4297320214106148.\n[I 2025-08-07 04:08:04,890] Trial 2 finished with value: 0.5319827420618483 and parameters: {'criterion': 'entropy', 'max_depth': 16, 'max_features': 5}. Best is trial 0 with value: 0.5647793116863332.\n"
     ]
    },
    {
     "output_type": "display_data",
     "data": {
      "application/vnd.jupyter.widget-view+json": {
       "model_id": "a75197b5c6dc490daccbbba71651e45b",
       "version_major": 2,
       "version_minor": 0
      },
      "text/plain": [
       "Uploading artifacts:   0%|          | 0/11 [00:00<?, ?it/s]"
      ]
     },
     "metadata": {},
     "output_type": "display_data"
    },
    {
     "output_type": "display_data",
     "data": {
      "application/vnd.jupyter.widget-view+json": {
       "model_id": "aa31179f5f1e4ad488616c2da37337b7",
       "version_major": 2,
       "version_minor": 0
      },
      "text/plain": [
       "Downloading artifacts:   0%|          | 0/11 [00:00<?, ?it/s]"
      ]
     },
     "metadata": {},
     "output_type": "display_data"
    },
    {
     "output_type": "stream",
     "name": "stderr",
     "output_type": "stream",
     "text": [
      "2025/08/07 04:08:10 INFO mlflow.tracking._tracking_service.client: \uD83C\uDFC3 View run Optuna Trial 3 at: dbc-8b9f7bce-656b.cloud.databricks.com/ml/experiments/4297320214106148/runs/2bacaaaf8d584e92a40256e47c5a8b00.\n2025/08/07 04:08:10 INFO mlflow.tracking._tracking_service.client: \uD83E\uDDEA View experiment at: dbc-8b9f7bce-656b.cloud.databricks.com/ml/experiments/4297320214106148.\n[I 2025-08-07 04:08:10,387] Trial 3 finished with value: 0.49650374222975463 and parameters: {'criterion': 'gini', 'max_depth': 38, 'max_features': 5}. Best is trial 0 with value: 0.5647793116863332.\n"
     ]
    },
    {
     "output_type": "display_data",
     "data": {
      "application/vnd.jupyter.widget-view+json": {
       "model_id": "58fcc7a306944e01818dd3c41ea20d9e",
       "version_major": 2,
       "version_minor": 0
      },
      "text/plain": [
       "Uploading artifacts:   0%|          | 0/11 [00:00<?, ?it/s]"
      ]
     },
     "metadata": {},
     "output_type": "display_data"
    },
    {
     "output_type": "display_data",
     "data": {
      "application/vnd.jupyter.widget-view+json": {
       "model_id": "9138cc67ab534b10ab9c36f03a11598a",
       "version_major": 2,
       "version_minor": 0
      },
      "text/plain": [
       "Downloading artifacts:   0%|          | 0/11 [00:00<?, ?it/s]"
      ]
     },
     "metadata": {},
     "output_type": "display_data"
    },
    {
     "output_type": "stream",
     "name": "stderr",
     "output_type": "stream",
     "text": [
      "2025/08/07 04:08:15 INFO mlflow.tracking._tracking_service.client: \uD83C\uDFC3 View run Optuna Trial 4 at: dbc-8b9f7bce-656b.cloud.databricks.com/ml/experiments/4297320214106148/runs/66257ffa8d0f470781925d672909c665.\n2025/08/07 04:08:15 INFO mlflow.tracking._tracking_service.client: \uD83E\uDDEA View experiment at: dbc-8b9f7bce-656b.cloud.databricks.com/ml/experiments/4297320214106148.\n[I 2025-08-07 04:08:15,629] Trial 4 finished with value: 0.4885201373040247 and parameters: {'criterion': 'gini', 'max_depth': 46, 'max_features': 6}. Best is trial 0 with value: 0.5647793116863332.\n"
     ]
    },
    {
     "output_type": "display_data",
     "data": {
      "application/vnd.jupyter.widget-view+json": {
       "model_id": "6c0620fd980c48ae8e2c5b82f7d42f9e",
       "version_major": 2,
       "version_minor": 0
      },
      "text/plain": [
       "Uploading artifacts:   0%|          | 0/11 [00:00<?, ?it/s]"
      ]
     },
     "metadata": {},
     "output_type": "display_data"
    },
    {
     "output_type": "display_data",
     "data": {
      "application/vnd.jupyter.widget-view+json": {
       "model_id": "6f6f4348d3954706aed5ffbea6506c4d",
       "version_major": 2,
       "version_minor": 0
      },
      "text/plain": [
       "Downloading artifacts:   0%|          | 0/11 [00:00<?, ?it/s]"
      ]
     },
     "metadata": {},
     "output_type": "display_data"
    },
    {
     "output_type": "stream",
     "name": "stderr",
     "output_type": "stream",
     "text": [
      "2025/08/07 04:08:20 INFO mlflow.tracking._tracking_service.client: \uD83C\uDFC3 View run Optuna Trial 5 at: dbc-8b9f7bce-656b.cloud.databricks.com/ml/experiments/4297320214106148/runs/5e027c7274e748b4ad35ea920428d681.\n2025/08/07 04:08:20 INFO mlflow.tracking._tracking_service.client: \uD83E\uDDEA View experiment at: dbc-8b9f7bce-656b.cloud.databricks.com/ml/experiments/4297320214106148.\n[I 2025-08-07 04:08:21,114] Trial 5 finished with value: 0.5092658818985419 and parameters: {'criterion': 'log_loss', 'max_depth': 18, 'max_features': 7}. Best is trial 0 with value: 0.5647793116863332.\n"
     ]
    },
    {
     "output_type": "display_data",
     "data": {
      "application/vnd.jupyter.widget-view+json": {
       "model_id": "95de5398862149dc866ec8d35a38ae70",
       "version_major": 2,
       "version_minor": 0
      },
      "text/plain": [
       "Uploading artifacts:   0%|          | 0/11 [00:00<?, ?it/s]"
      ]
     },
     "metadata": {},
     "output_type": "display_data"
    },
    {
     "output_type": "display_data",
     "data": {
      "application/vnd.jupyter.widget-view+json": {
       "model_id": "07f7c2b107a2488aa77dae94f3ac4417",
       "version_major": 2,
       "version_minor": 0
      },
      "text/plain": [
       "Downloading artifacts:   0%|          | 0/11 [00:00<?, ?it/s]"
      ]
     },
     "metadata": {},
     "output_type": "display_data"
    },
    {
     "output_type": "stream",
     "name": "stderr",
     "output_type": "stream",
     "text": [
      "2025/08/07 04:08:26 INFO mlflow.tracking._tracking_service.client: \uD83C\uDFC3 View run Optuna Trial 6 at: dbc-8b9f7bce-656b.cloud.databricks.com/ml/experiments/4297320214106148/runs/a5277cb67923409dbb31abc5bbce3c8b.\n2025/08/07 04:08:26 INFO mlflow.tracking._tracking_service.client: \uD83E\uDDEA View experiment at: dbc-8b9f7bce-656b.cloud.databricks.com/ml/experiments/4297320214106148.\n[I 2025-08-07 04:08:26,330] Trial 6 finished with value: 0.4905523288438103 and parameters: {'criterion': 'log_loss', 'max_depth': 44, 'max_features': 9}. Best is trial 0 with value: 0.5647793116863332.\n"
     ]
    },
    {
     "output_type": "display_data",
     "data": {
      "application/vnd.jupyter.widget-view+json": {
       "model_id": "b554786b13494ababb4d0358d97aa7e4",
       "version_major": 2,
       "version_minor": 0
      },
      "text/plain": [
       "Uploading artifacts:   0%|          | 0/11 [00:00<?, ?it/s]"
      ]
     },
     "metadata": {},
     "output_type": "display_data"
    },
    {
     "output_type": "display_data",
     "data": {
      "application/vnd.jupyter.widget-view+json": {
       "model_id": "5782dae5881148fb92c23082a37fbbc8",
       "version_major": 2,
       "version_minor": 0
      },
      "text/plain": [
       "Downloading artifacts:   0%|          | 0/11 [00:00<?, ?it/s]"
      ]
     },
     "metadata": {},
     "output_type": "display_data"
    },
    {
     "output_type": "stream",
     "name": "stderr",
     "output_type": "stream",
     "text": [
      "2025/08/07 04:08:31 INFO mlflow.tracking._tracking_service.client: \uD83C\uDFC3 View run Optuna Trial 7 at: dbc-8b9f7bce-656b.cloud.databricks.com/ml/experiments/4297320214106148/runs/b27e67ba1fa949aaa7aefd98b2ede321.\n2025/08/07 04:08:31 INFO mlflow.tracking._tracking_service.client: \uD83E\uDDEA View experiment at: dbc-8b9f7bce-656b.cloud.databricks.com/ml/experiments/4297320214106148.\n[I 2025-08-07 04:08:31,551] Trial 7 finished with value: 0.4857366037437891 and parameters: {'criterion': 'gini', 'max_depth': 38, 'max_features': 10}. Best is trial 0 with value: 0.5647793116863332.\n"
     ]
    },
    {
     "output_type": "display_data",
     "data": {
      "application/vnd.jupyter.widget-view+json": {
       "model_id": "392d8292087a4e828bb4014261bf4ee7",
       "version_major": 2,
       "version_minor": 0
      },
      "text/plain": [
       "Uploading artifacts:   0%|          | 0/11 [00:00<?, ?it/s]"
      ]
     },
     "metadata": {},
     "output_type": "display_data"
    },
    {
     "output_type": "display_data",
     "data": {
      "application/vnd.jupyter.widget-view+json": {
       "model_id": "072f6059447b4722b428fc6dc8541f84",
       "version_major": 2,
       "version_minor": 0
      },
      "text/plain": [
       "Downloading artifacts:   0%|          | 0/11 [00:00<?, ?it/s]"
      ]
     },
     "metadata": {},
     "output_type": "display_data"
    },
    {
     "output_type": "stream",
     "name": "stderr",
     "output_type": "stream",
     "text": [
      "2025/08/07 04:08:36 INFO mlflow.tracking._tracking_service.client: \uD83C\uDFC3 View run Optuna Trial 8 at: dbc-8b9f7bce-656b.cloud.databricks.com/ml/experiments/4297320214106148/runs/19f632fb547f4cd2b374b5365064b985.\n2025/08/07 04:08:36 INFO mlflow.tracking._tracking_service.client: \uD83E\uDDEA View experiment at: dbc-8b9f7bce-656b.cloud.databricks.com/ml/experiments/4297320214106148.\n[I 2025-08-07 04:08:36,649] Trial 8 finished with value: 0.4967086126250772 and parameters: {'criterion': 'entropy', 'max_depth': 37, 'max_features': 8}. Best is trial 0 with value: 0.5647793116863332.\n"
     ]
    },
    {
     "output_type": "display_data",
     "data": {
      "application/vnd.jupyter.widget-view+json": {
       "model_id": "e2cd1f3d676a497a9ccbe8c3c1e033c6",
       "version_major": 2,
       "version_minor": 0
      },
      "text/plain": [
       "Uploading artifacts:   0%|          | 0/11 [00:00<?, ?it/s]"
      ]
     },
     "metadata": {},
     "output_type": "display_data"
    },
    {
     "output_type": "display_data",
     "data": {
      "application/vnd.jupyter.widget-view+json": {
       "model_id": "af51047faec74a5d9b38ca661171f834",
       "version_major": 2,
       "version_minor": 0
      },
      "text/plain": [
       "Downloading artifacts:   0%|          | 0/11 [00:00<?, ?it/s]"
      ]
     },
     "metadata": {},
     "output_type": "display_data"
    },
    {
     "output_type": "stream",
     "name": "stderr",
     "output_type": "stream",
     "text": [
      "2025/08/07 04:08:41 INFO mlflow.tracking._tracking_service.client: \uD83C\uDFC3 View run Optuna Trial 9 at: dbc-8b9f7bce-656b.cloud.databricks.com/ml/experiments/4297320214106148/runs/189c57bea9304d2ea085b25c8ee97790.\n2025/08/07 04:08:41 INFO mlflow.tracking._tracking_service.client: \uD83E\uDDEA View experiment at: dbc-8b9f7bce-656b.cloud.databricks.com/ml/experiments/4297320214106148.\n[I 2025-08-07 04:08:41,965] Trial 9 finished with value: 0.49183582507704454 and parameters: {'criterion': 'log_loss', 'max_depth': 38, 'max_features': 9}. Best is trial 0 with value: 0.5647793116863332.\n2025/08/07 04:08:42 INFO mlflow.tracking._tracking_service.client: \uD83C\uDFC3 View run Lab_Optuna_Hyperparameter_Optimization at: dbc-8b9f7bce-656b.cloud.databricks.com/ml/experiments/4297320214106148/runs/59eb4d82251647deb33f0f668e856997.\n2025/08/07 04:08:42 INFO mlflow.tracking._tracking_service.client: \uD83E\uDDEA View experiment at: dbc-8b9f7bce-656b.cloud.databricks.com/ml/experiments/4297320214106148.\n"
     ]
    }
   ],
   "source": [
    "study = optuna.create_study(\n",
    "    study_name=\"lab_optuna_hpo\",\n",
    "    direction=\"maximize\"\n",
    ")\n",
    "\n",
    "with mlflow.start_run(run_name='Lab_Optuna_Hyperparameter_Optimization') as parent_run:\n",
    "    ## Run optimization\n",
    "    study.optimize(\n",
    "        optuna_objective_function, \n",
    "        n_trials=10,\n",
    "        )"
   ]
  },
  {
   "cell_type": "markdown",
   "metadata": {
    "application/vnd.databricks.v1+cell": {
     "cellMetadata": {},
     "inputWidgets": {},
     "nuid": "fbebe7ae-9faf-44c1-b847-d85ff99c907f",
     "showTitle": false,
     "tableResultSettingsMap": {},
     "title": ""
    }
   },
   "source": [
    "## Step 3. Visual Inspection of Precision Values\n",
    "\n",
    "Here, we can view all 10 runs. After completing the code and running the following cell, scroll to the right and locate the column `metrics.precision`. Use the UI to order and order by descending. This will locate the largest precision score. Next, you will create a visual to also help understand the distribution of scores by trial. \n",
    "\n",
    "\n",
    "### Creating a precision score visual\n",
    "\n",
    "1. **Run the next cell** to generate the table output.  \n",
    "1. Click on the **plus (+) symbol** in the output cell.  \n",
    "1. Select **Visualization** from the options.  \n",
    "1. In the visualization settings, choose \n",
    "**Bar** and ensure **Horizontal Chart** toggle is **on**.  \n",
    "1. Configure the **Y-axis**:  \n",
    "   - Set **Y Column** to `tags.mlflow.runName`.  \n",
    "1. Configure the **X-axis**:  \n",
    "   - Set **X Columns** to `metrics.precision`.  \n",
    "   - Choose **Sum** as the aggregation method.  \n",
    "1. Click on the **Y-axis tab**:  \n",
    "   - Ensure **Show Labels** is **on**.  \n",
    "1. Apply the settings and visualize the data.\n",
    "\n",
    "\n",
    "After following the above instructions, visually inspect which trial had the best run according to `precision`."
   ]
  },
  {
   "cell_type": "code",
   "execution_count": 0,
   "metadata": {
    "application/vnd.databricks.v1+cell": {
     "cellMetadata": {
      "byteLimit": 2048000,
      "rowLimit": 10000
     },
     "inputWidgets": {},
     "nuid": "1c0b3e48-e55d-49bc-837a-c139797c51b0",
     "showTitle": false,
     "tableResultSettingsMap": {},
     "title": ""
    }
   },
   "outputs": [
    {
     "output_type": "display_data",
     "data": {
      "text/html": [
       "<style scoped>\n",
       "  .table-result-container {\n",
       "    max-height: 300px;\n",
       "    overflow: auto;\n",
       "  }\n",
       "  table, th, td {\n",
       "    border: 1px solid black;\n",
       "    border-collapse: collapse;\n",
       "  }\n",
       "  th, td {\n",
       "    padding: 5px;\n",
       "  }\n",
       "  th {\n",
       "    text-align: left;\n",
       "  }\n",
       "</style><div class='table-result-container'><table class='table-result'><thead style='background-color: white'><tr><th>run_id</th><th>experiment_id</th><th>status</th><th>artifact_uri</th><th>start_time</th><th>end_time</th><th>metrics.f1</th><th>metrics.recall</th><th>metrics.accuracy</th><th>metrics.precision</th><th>params.criterion</th><th>params.max_features</th><th>params.max_depth</th><th>tags.mlflow.databricks.cluster.info</th><th>tags.mlflow.rootRunId</th><th>tags.mlflow.user</th><th>tags.mlflow.source.name</th><th>tags.mlflow.runName</th><th>tags.mlflow.runColor</th><th>tags.mlflow.databricks.notebook.commandID</th><th>tags.mlflow.databricks.workspaceURL</th><th>tags.mlflow.databricks.notebookRevisionID</th><th>tags.sparkDatasourceInfo</th><th>tags.mlflow.log-model.history</th><th>tags.mlflow.databricks.cluster.libraries</th><th>tags.mlflow.databricks.cluster.id</th><th>tags.mlflow.parentRunId</th><th>tags.mlflow.databricks.notebookID</th><th>tags.mlflow.databricks.notebookPath</th><th>tags.mlflow.databricks.workspaceID</th><th>tags.mlflow.databricks.webappURL</th><th>tags.mlflow.source.type</th></tr></thead><tbody><tr><td>189c57bea9304d2ea085b25c8ee97790</td><td>4297320214106148</td><td>FINISHED</td><td>dbfs:/databricks/mlflow-tracking/4297320214106148/189c57bea9304d2ea085b25c8ee97790/artifacts</td><td>2025-08-07T04:08:36.781Z</td><td>2025-08-07T04:08:41.828Z</td><td>0.48879679360692735</td><td>0.4864931874487805</td><td>0.729745889387145</td><td>0.49183582507704454</td><td>log_loss</td><td>9</td><td>38</td><td>{\"cluster_name\":\"labuser11091541_1754532261\",\"spark_version\":\"16.3.x-cpu-ml-scala2.12\",\"node_type_id\":\"i3.xlarge\",\"driver_node_type_id\":\"i3.xlarge\",\"autotermination_minutes\":120,\"disk_spec\":{},\"num_workers\":0}</td><td>59eb4d82251647deb33f0f668e856997</td><td>labuser11091541_1754532261@vocareum.com</td><td>/Users/labuser11091541_1754532261@vocareum.com/machine-learning-model-development-2.1.4/M02 - Hyperparameter Tuning/2.2 Lab Solution - Hyperparameter Tuning with Optuna</td><td>Optuna Trial 9</td><td>#229487</td><td>1754532603628_6841699981224735058_51395fde30134abb94f299931c04b150</td><td>dbc-8b9f7bce-656b.cloud.databricks.com</td><td>1754539721968</td><td>path=dbfs:/Volumes/dbacademy_telco/v01/telco/telco-customer-churn.csv,format=csv\n",
       "path=s3://unity-catalogs-us-west-2/metastore/3812518-root/1de8b107-0623-45f2-a2ab-de9793bf8c9f/tables/4f417dc7-994a-43f5-acfd-b3aa99ece837,version=0,format=delta</td><td>[{\"artifact_path\":\"lab_optuna_decision_tree_model\",\"flavors\":{\"python_function\":{\"predict_fn\":\"predict\",\"model_path\":\"model.pkl\",\"loader_module\":\"mlflow.sklearn\",\"env\":{\"conda\":\"conda.yaml\",\"virtualenv\":\"python_env.yaml\"},\"python_version\":\"3.12.3\"},\"sklearn\":{\"pickled_model\":\"model.pkl\",\"sklearn_version\":\"1.4.2\",\"serialization_format\":\"cloudpickle\",\"code\":null}},\"utc_time_created\":\"2025-08-07 04:08:37.203429\"}]</td><td>{\"installable\":[],\"redacted\":[]}</td><td>0807-020503-n8pcq51u</td><td>59eb4d82251647deb33f0f668e856997</td><td>4297320214104202</td><td>/Users/labuser11091541_1754532261@vocareum.com/machine-learning-model-development-2.1.4/M02 - Hyperparameter Tuning/2.2 Lab Solution - Hyperparameter Tuning with Optuna</td><td>182135318479115</td><td>https://oregon.cloud.databricks.com</td><td>NOTEBOOK</td></tr><tr><td>19f632fb547f4cd2b374b5365064b985</td><td>4297320214106148</td><td>FINISHED</td><td>dbfs:/databricks/mlflow-tracking/4297320214106148/19f632fb547f4cd2b374b5365064b985/artifacts</td><td>2025-08-07T04:08:31.679Z</td><td>2025-08-07T04:08:36.52Z</td><td>0.5020483687653235</td><td>0.5078459316795461</td><td>0.732286995515695</td><td>0.4967086126250772</td><td>entropy</td><td>8</td><td>37</td><td>{\"cluster_name\":\"labuser11091541_1754532261\",\"spark_version\":\"16.3.x-cpu-ml-scala2.12\",\"node_type_id\":\"i3.xlarge\",\"driver_node_type_id\":\"i3.xlarge\",\"autotermination_minutes\":120,\"disk_spec\":{},\"num_workers\":0}</td><td>59eb4d82251647deb33f0f668e856997</td><td>labuser11091541_1754532261@vocareum.com</td><td>/Users/labuser11091541_1754532261@vocareum.com/machine-learning-model-development-2.1.4/M02 - Hyperparameter Tuning/2.2 Lab Solution - Hyperparameter Tuning with Optuna</td><td>Optuna Trial 8</td><td>#5bc5db</td><td>1754532603628_6841699981224735058_51395fde30134abb94f299931c04b150</td><td>dbc-8b9f7bce-656b.cloud.databricks.com</td><td>1754539716649</td><td>path=dbfs:/Volumes/dbacademy_telco/v01/telco/telco-customer-churn.csv,format=csv\n",
       "path=s3://unity-catalogs-us-west-2/metastore/3812518-root/1de8b107-0623-45f2-a2ab-de9793bf8c9f/tables/4f417dc7-994a-43f5-acfd-b3aa99ece837,version=0,format=delta</td><td>[{\"artifact_path\":\"lab_optuna_decision_tree_model\",\"flavors\":{\"python_function\":{\"predict_fn\":\"predict\",\"model_path\":\"model.pkl\",\"loader_module\":\"mlflow.sklearn\",\"env\":{\"conda\":\"conda.yaml\",\"virtualenv\":\"python_env.yaml\"},\"python_version\":\"3.12.3\"},\"sklearn\":{\"pickled_model\":\"model.pkl\",\"sklearn_version\":\"1.4.2\",\"serialization_format\":\"cloudpickle\",\"code\":null}},\"utc_time_created\":\"2025-08-07 04:08:32.070666\"}]</td><td>{\"installable\":[],\"redacted\":[]}</td><td>0807-020503-n8pcq51u</td><td>59eb4d82251647deb33f0f668e856997</td><td>4297320214104202</td><td>/Users/labuser11091541_1754532261@vocareum.com/machine-learning-model-development-2.1.4/M02 - Hyperparameter Tuning/2.2 Lab Solution - Hyperparameter Tuning with Optuna</td><td>182135318479115</td><td>https://oregon.cloud.databricks.com</td><td>NOTEBOOK</td></tr><tr><td>b27e67ba1fa949aaa7aefd98b2ede321</td><td>4297320214106148</td><td>FINISHED</td><td>dbfs:/databricks/mlflow-tracking/4297320214106148/b27e67ba1fa949aaa7aefd98b2ede321/artifacts</td><td>2025-08-07T04:08:26.461Z</td><td>2025-08-07T04:08:31.423Z</td><td>0.4888887564561573</td><td>0.49212189347096597</td><td>0.7263079222720479</td><td>0.4857366037437891</td><td>gini</td><td>10</td><td>38</td><td>{\"cluster_name\":\"labuser11091541_1754532261\",\"spark_version\":\"16.3.x-cpu-ml-scala2.12\",\"node_type_id\":\"i3.xlarge\",\"driver_node_type_id\":\"i3.xlarge\",\"autotermination_minutes\":120,\"disk_spec\":{},\"num_workers\":0}</td><td>59eb4d82251647deb33f0f668e856997</td><td>labuser11091541_1754532261@vocareum.com</td><td>/Users/labuser11091541_1754532261@vocareum.com/machine-learning-model-development-2.1.4/M02 - Hyperparameter Tuning/2.2 Lab Solution - Hyperparameter Tuning with Optuna</td><td>Optuna Trial 7</td><td>#edb732</td><td>1754532603628_6841699981224735058_51395fde30134abb94f299931c04b150</td><td>dbc-8b9f7bce-656b.cloud.databricks.com</td><td>1754539711553</td><td>path=dbfs:/Volumes/dbacademy_telco/v01/telco/telco-customer-churn.csv,format=csv\n",
       "path=s3://unity-catalogs-us-west-2/metastore/3812518-root/1de8b107-0623-45f2-a2ab-de9793bf8c9f/tables/4f417dc7-994a-43f5-acfd-b3aa99ece837,version=0,format=delta</td><td>[{\"artifact_path\":\"lab_optuna_decision_tree_model\",\"flavors\":{\"python_function\":{\"predict_fn\":\"predict\",\"model_path\":\"model.pkl\",\"loader_module\":\"mlflow.sklearn\",\"env\":{\"conda\":\"conda.yaml\",\"virtualenv\":\"python_env.yaml\"},\"python_version\":\"3.12.3\"},\"sklearn\":{\"pickled_model\":\"model.pkl\",\"sklearn_version\":\"1.4.2\",\"serialization_format\":\"cloudpickle\",\"code\":null}},\"utc_time_created\":\"2025-08-07 04:08:26.902086\"}]</td><td>{\"installable\":[],\"redacted\":[]}</td><td>0807-020503-n8pcq51u</td><td>59eb4d82251647deb33f0f668e856997</td><td>4297320214104202</td><td>/Users/labuser11091541_1754532261@vocareum.com/machine-learning-model-development-2.1.4/M02 - Hyperparameter Tuning/2.2 Lab Solution - Hyperparameter Tuning with Optuna</td><td>182135318479115</td><td>https://oregon.cloud.databricks.com</td><td>NOTEBOOK</td></tr><tr><td>a5277cb67923409dbb31abc5bbce3c8b</td><td>4297320214106148</td><td>FINISHED</td><td>dbfs:/databricks/mlflow-tracking/4297320214106148/a5277cb67923409dbb31abc5bbce3c8b/artifacts</td><td>2025-08-07T04:08:21.258Z</td><td>2025-08-07T04:08:26.188Z</td><td>0.49190324760218584</td><td>0.49379782460164695</td><td>0.7289985052316892</td><td>0.4905523288438103</td><td>log_loss</td><td>9</td><td>44</td><td>{\"cluster_name\":\"labuser11091541_1754532261\",\"spark_version\":\"16.3.x-cpu-ml-scala2.12\",\"node_type_id\":\"i3.xlarge\",\"driver_node_type_id\":\"i3.xlarge\",\"autotermination_minutes\":120,\"disk_spec\":{},\"num_workers\":0}</td><td>59eb4d82251647deb33f0f668e856997</td><td>labuser11091541_1754532261@vocareum.com</td><td>/Users/labuser11091541_1754532261@vocareum.com/machine-learning-model-development-2.1.4/M02 - Hyperparameter Tuning/2.2 Lab Solution - Hyperparameter Tuning with Optuna</td><td>Optuna Trial 6</td><td>#c565c7</td><td>1754532603628_6841699981224735058_51395fde30134abb94f299931c04b150</td><td>dbc-8b9f7bce-656b.cloud.databricks.com</td><td>1754539706331</td><td>path=dbfs:/Volumes/dbacademy_telco/v01/telco/telco-customer-churn.csv,format=csv\n",
       "path=s3://unity-catalogs-us-west-2/metastore/3812518-root/1de8b107-0623-45f2-a2ab-de9793bf8c9f/tables/4f417dc7-994a-43f5-acfd-b3aa99ece837,version=0,format=delta</td><td>[{\"artifact_path\":\"lab_optuna_decision_tree_model\",\"flavors\":{\"python_function\":{\"predict_fn\":\"predict\",\"model_path\":\"model.pkl\",\"loader_module\":\"mlflow.sklearn\",\"env\":{\"conda\":\"conda.yaml\",\"virtualenv\":\"python_env.yaml\"},\"python_version\":\"3.12.3\"},\"sklearn\":{\"pickled_model\":\"model.pkl\",\"sklearn_version\":\"1.4.2\",\"serialization_format\":\"cloudpickle\",\"code\":null}},\"utc_time_created\":\"2025-08-07 04:08:21.660545\"}]</td><td>{\"installable\":[],\"redacted\":[]}</td><td>0807-020503-n8pcq51u</td><td>59eb4d82251647deb33f0f668e856997</td><td>4297320214104202</td><td>/Users/labuser11091541_1754532261@vocareum.com/machine-learning-model-development-2.1.4/M02 - Hyperparameter Tuning/2.2 Lab Solution - Hyperparameter Tuning with Optuna</td><td>182135318479115</td><td>https://oregon.cloud.databricks.com</td><td>NOTEBOOK</td></tr><tr><td>5e027c7274e748b4ad35ea920428d681</td><td>4297320214106148</td><td>FINISHED</td><td>dbfs:/databricks/mlflow-tracking/4297320214106148/5e027c7274e748b4ad35ea920428d681/artifacts</td><td>2025-08-07T04:08:15.757Z</td><td>2025-08-07T04:08:20.921Z</td><td>0.5130938172283945</td><td>0.5173990230201585</td><td>0.7390134529147981</td><td>0.5092658818985419</td><td>log_loss</td><td>7</td><td>18</td><td>{\"cluster_name\":\"labuser11091541_1754532261\",\"spark_version\":\"16.3.x-cpu-ml-scala2.12\",\"node_type_id\":\"i3.xlarge\",\"driver_node_type_id\":\"i3.xlarge\",\"autotermination_minutes\":120,\"disk_spec\":{},\"num_workers\":0}</td><td>59eb4d82251647deb33f0f668e856997</td><td>labuser11091541_1754532261@vocareum.com</td><td>/Users/labuser11091541_1754532261@vocareum.com/machine-learning-model-development-2.1.4/M02 - Hyperparameter Tuning/2.2 Lab Solution - Hyperparameter Tuning with Optuna</td><td>Optuna Trial 5</td><td>#87cebf</td><td>1754532603628_6841699981224735058_51395fde30134abb94f299931c04b150</td><td>dbc-8b9f7bce-656b.cloud.databricks.com</td><td>1754539701114</td><td>path=dbfs:/Volumes/dbacademy_telco/v01/telco/telco-customer-churn.csv,format=csv\n",
       "path=s3://unity-catalogs-us-west-2/metastore/3812518-root/1de8b107-0623-45f2-a2ab-de9793bf8c9f/tables/4f417dc7-994a-43f5-acfd-b3aa99ece837,version=0,format=delta</td><td>[{\"artifact_path\":\"lab_optuna_decision_tree_model\",\"flavors\":{\"python_function\":{\"predict_fn\":\"predict\",\"model_path\":\"model.pkl\",\"loader_module\":\"mlflow.sklearn\",\"env\":{\"conda\":\"conda.yaml\",\"virtualenv\":\"python_env.yaml\"},\"python_version\":\"3.12.3\"},\"sklearn\":{\"pickled_model\":\"model.pkl\",\"sklearn_version\":\"1.4.2\",\"serialization_format\":\"cloudpickle\",\"code\":null}},\"utc_time_created\":\"2025-08-07 04:08:16.219305\"}]</td><td>{\"installable\":[],\"redacted\":[]}</td><td>0807-020503-n8pcq51u</td><td>59eb4d82251647deb33f0f668e856997</td><td>4297320214104202</td><td>/Users/labuser11091541_1754532261@vocareum.com/machine-learning-model-development-2.1.4/M02 - Hyperparameter Tuning/2.2 Lab Solution - Hyperparameter Tuning with Optuna</td><td>182135318479115</td><td>https://oregon.cloud.databricks.com</td><td>NOTEBOOK</td></tr><tr><td>66257ffa8d0f470781925d672909c665</td><td>4297320214106148</td><td>FINISHED</td><td>dbfs:/databricks/mlflow-tracking/4297320214106148/66257ffa8d0f470781925d672909c665/artifacts</td><td>2025-08-07T04:08:10.543Z</td><td>2025-08-07T04:08:15.498Z</td><td>0.4970622064126015</td><td>0.5061804100589935</td><td>0.7276532137518684</td><td>0.4885201373040247</td><td>gini</td><td>6</td><td>46</td><td>{\"cluster_name\":\"labuser11091541_1754532261\",\"spark_version\":\"16.3.x-cpu-ml-scala2.12\",\"node_type_id\":\"i3.xlarge\",\"driver_node_type_id\":\"i3.xlarge\",\"autotermination_minutes\":120,\"disk_spec\":{},\"num_workers\":0}</td><td>59eb4d82251647deb33f0f668e856997</td><td>labuser11091541_1754532261@vocareum.com</td><td>/Users/labuser11091541_1754532261@vocareum.com/machine-learning-model-development-2.1.4/M02 - Hyperparameter Tuning/2.2 Lab Solution - Hyperparameter Tuning with Optuna</td><td>Optuna Trial 4</td><td>#e57439</td><td>1754532603628_6841699981224735058_51395fde30134abb94f299931c04b150</td><td>dbc-8b9f7bce-656b.cloud.databricks.com</td><td>1754539695634</td><td>path=dbfs:/Volumes/dbacademy_telco/v01/telco/telco-customer-churn.csv,format=csv\n",
       "path=s3://unity-catalogs-us-west-2/metastore/3812518-root/1de8b107-0623-45f2-a2ab-de9793bf8c9f/tables/4f417dc7-994a-43f5-acfd-b3aa99ece837,version=0,format=delta</td><td>[{\"artifact_path\":\"lab_optuna_decision_tree_model\",\"flavors\":{\"python_function\":{\"predict_fn\":\"predict\",\"model_path\":\"model.pkl\",\"loader_module\":\"mlflow.sklearn\",\"env\":{\"conda\":\"conda.yaml\",\"virtualenv\":\"python_env.yaml\"},\"python_version\":\"3.12.3\"},\"sklearn\":{\"pickled_model\":\"model.pkl\",\"sklearn_version\":\"1.4.2\",\"serialization_format\":\"cloudpickle\",\"code\":null}},\"utc_time_created\":\"2025-08-07 04:08:10.950906\"}]</td><td>{\"installable\":[],\"redacted\":[]}</td><td>0807-020503-n8pcq51u</td><td>59eb4d82251647deb33f0f668e856997</td><td>4297320214104202</td><td>/Users/labuser11091541_1754532261@vocareum.com/machine-learning-model-development-2.1.4/M02 - Hyperparameter Tuning/2.2 Lab Solution - Hyperparameter Tuning with Optuna</td><td>182135318479115</td><td>https://oregon.cloud.databricks.com</td><td>NOTEBOOK</td></tr><tr><td>2bacaaaf8d584e92a40256e47c5a8b00</td><td>4297320214106148</td><td>FINISHED</td><td>dbfs:/databricks/mlflow-tracking/4297320214106148/2bacaaaf8d584e92a40256e47c5a8b00/artifacts</td><td>2025-08-07T04:08:05.039Z</td><td>2025-08-07T04:08:10.261Z</td><td>0.49875085430788935</td><td>0.501112871264642</td><td>0.7321375186846039</td><td>0.49650374222975463</td><td>gini</td><td>5</td><td>38</td><td>{\"cluster_name\":\"labuser11091541_1754532261\",\"spark_version\":\"16.3.x-cpu-ml-scala2.12\",\"node_type_id\":\"i3.xlarge\",\"driver_node_type_id\":\"i3.xlarge\",\"autotermination_minutes\":120,\"disk_spec\":{},\"num_workers\":0}</td><td>59eb4d82251647deb33f0f668e856997</td><td>labuser11091541_1754532261@vocareum.com</td><td>/Users/labuser11091541_1754532261@vocareum.com/machine-learning-model-development-2.1.4/M02 - Hyperparameter Tuning/2.2 Lab Solution - Hyperparameter Tuning with Optuna</td><td>Optuna Trial 3</td><td>#e87b9f</td><td>1754532603628_6841699981224735058_51395fde30134abb94f299931c04b150</td><td>dbc-8b9f7bce-656b.cloud.databricks.com</td><td>1754539690506</td><td>path=dbfs:/Volumes/dbacademy_telco/v01/telco/telco-customer-churn.csv,format=csv\n",
       "path=s3://unity-catalogs-us-west-2/metastore/3812518-root/1de8b107-0623-45f2-a2ab-de9793bf8c9f/tables/4f417dc7-994a-43f5-acfd-b3aa99ece837,version=0,format=delta</td><td>[{\"artifact_path\":\"lab_optuna_decision_tree_model\",\"flavors\":{\"python_function\":{\"predict_fn\":\"predict\",\"model_path\":\"model.pkl\",\"loader_module\":\"mlflow.sklearn\",\"env\":{\"conda\":\"conda.yaml\",\"virtualenv\":\"python_env.yaml\"},\"python_version\":\"3.12.3\"},\"sklearn\":{\"pickled_model\":\"model.pkl\",\"sklearn_version\":\"1.4.2\",\"serialization_format\":\"cloudpickle\",\"code\":null}},\"utc_time_created\":\"2025-08-07 04:08:05.567596\"}]</td><td>{\"installable\":[],\"redacted\":[]}</td><td>0807-020503-n8pcq51u</td><td>59eb4d82251647deb33f0f668e856997</td><td>4297320214104202</td><td>/Users/labuser11091541_1754532261@vocareum.com/machine-learning-model-development-2.1.4/M02 - Hyperparameter Tuning/2.2 Lab Solution - Hyperparameter Tuning with Optuna</td><td>182135318479115</td><td>https://oregon.cloud.databricks.com</td><td>NOTEBOOK</td></tr><tr><td>6c1de4e822534437bc9b9435f3c4d0e2</td><td>4297320214106148</td><td>FINISHED</td><td>dbfs:/databricks/mlflow-tracking/4297320214106148/6c1de4e822534437bc9b9435f3c4d0e2/artifacts</td><td>2025-08-07T04:07:59.741Z</td><td>2025-08-07T04:08:04.757Z</td><td>0.5318328810681657</td><td>0.5325637866391099</td><td>0.7508221225710016</td><td>0.5319827420618483</td><td>entropy</td><td>5</td><td>16</td><td>{\"cluster_name\":\"labuser11091541_1754532261\",\"spark_version\":\"16.3.x-cpu-ml-scala2.12\",\"node_type_id\":\"i3.xlarge\",\"driver_node_type_id\":\"i3.xlarge\",\"autotermination_minutes\":120,\"disk_spec\":{},\"num_workers\":0}</td><td>59eb4d82251647deb33f0f668e856997</td><td>labuser11091541_1754532261@vocareum.com</td><td>/Users/labuser11091541_1754532261@vocareum.com/machine-learning-model-development-2.1.4/M02 - Hyperparameter Tuning/2.2 Lab Solution - Hyperparameter Tuning with Optuna</td><td>Optuna Trial 2</td><td>#7d54b2</td><td>1754532603628_6841699981224735058_51395fde30134abb94f299931c04b150</td><td>dbc-8b9f7bce-656b.cloud.databricks.com</td><td>1754539684891</td><td>path=dbfs:/Volumes/dbacademy_telco/v01/telco/telco-customer-churn.csv,format=csv\n",
       "path=s3://unity-catalogs-us-west-2/metastore/3812518-root/1de8b107-0623-45f2-a2ab-de9793bf8c9f/tables/4f417dc7-994a-43f5-acfd-b3aa99ece837,version=0,format=delta</td><td>[{\"artifact_path\":\"lab_optuna_decision_tree_model\",\"flavors\":{\"python_function\":{\"predict_fn\":\"predict\",\"model_path\":\"model.pkl\",\"loader_module\":\"mlflow.sklearn\",\"env\":{\"conda\":\"conda.yaml\",\"virtualenv\":\"python_env.yaml\"},\"python_version\":\"3.12.3\"},\"sklearn\":{\"pickled_model\":\"model.pkl\",\"sklearn_version\":\"1.4.2\",\"serialization_format\":\"cloudpickle\",\"code\":null}},\"utc_time_created\":\"2025-08-07 04:08:00.155883\"}]</td><td>{\"installable\":[],\"redacted\":[]}</td><td>0807-020503-n8pcq51u</td><td>59eb4d82251647deb33f0f668e856997</td><td>4297320214104202</td><td>/Users/labuser11091541_1754532261@vocareum.com/machine-learning-model-development-2.1.4/M02 - Hyperparameter Tuning/2.2 Lab Solution - Hyperparameter Tuning with Optuna</td><td>182135318479115</td><td>https://oregon.cloud.databricks.com</td><td>NOTEBOOK</td></tr><tr><td>cf5500c8d2904e9c8f39b486ff738871</td><td>4297320214106148</td><td>FINISHED</td><td>dbfs:/databricks/mlflow-tracking/4297320214106148/cf5500c8d2904e9c8f39b486ff738871/artifacts</td><td>2025-08-07T04:07:54.367Z</td><td>2025-08-07T04:07:59.471Z</td><td>0.5066239696273639</td><td>0.5089502860722647</td><td>0.7373692077727952</td><td>0.5055753042920798</td><td>entropy</td><td>9</td><td>18</td><td>{\"cluster_name\":\"labuser11091541_1754532261\",\"spark_version\":\"16.3.x-cpu-ml-scala2.12\",\"node_type_id\":\"i3.xlarge\",\"driver_node_type_id\":\"i3.xlarge\",\"autotermination_minutes\":120,\"disk_spec\":{},\"num_workers\":0}</td><td>59eb4d82251647deb33f0f668e856997</td><td>labuser11091541_1754532261@vocareum.com</td><td>/Users/labuser11091541_1754532261@vocareum.com/machine-learning-model-development-2.1.4/M02 - Hyperparameter Tuning/2.2 Lab Solution - Hyperparameter Tuning with Optuna</td><td>Optuna Trial 1</td><td>#479a5f</td><td>1754532603628_6841699981224735058_51395fde30134abb94f299931c04b150</td><td>dbc-8b9f7bce-656b.cloud.databricks.com</td><td>1754539679606</td><td>path=dbfs:/Volumes/dbacademy_telco/v01/telco/telco-customer-churn.csv,format=csv\n",
       "path=s3://unity-catalogs-us-west-2/metastore/3812518-root/1de8b107-0623-45f2-a2ab-de9793bf8c9f/tables/4f417dc7-994a-43f5-acfd-b3aa99ece837,version=0,format=delta</td><td>[{\"artifact_path\":\"lab_optuna_decision_tree_model\",\"flavors\":{\"python_function\":{\"predict_fn\":\"predict\",\"model_path\":\"model.pkl\",\"loader_module\":\"mlflow.sklearn\",\"env\":{\"conda\":\"conda.yaml\",\"virtualenv\":\"python_env.yaml\"},\"python_version\":\"3.12.3\"},\"sklearn\":{\"pickled_model\":\"model.pkl\",\"sklearn_version\":\"1.4.2\",\"serialization_format\":\"cloudpickle\",\"code\":null}},\"utc_time_created\":\"2025-08-07 04:07:54.803199\"}]</td><td>{\"installable\":[],\"redacted\":[]}</td><td>0807-020503-n8pcq51u</td><td>59eb4d82251647deb33f0f668e856997</td><td>4297320214104202</td><td>/Users/labuser11091541_1754532261@vocareum.com/machine-learning-model-development-2.1.4/M02 - Hyperparameter Tuning/2.2 Lab Solution - Hyperparameter Tuning with Optuna</td><td>182135318479115</td><td>https://oregon.cloud.databricks.com</td><td>NOTEBOOK</td></tr><tr><td>94feb8776dfa434f80c652fb42b70f40</td><td>4297320214106148</td><td>FINISHED</td><td>dbfs:/databricks/mlflow-tracking/4297320214106148/94feb8776dfa434f80c652fb42b70f40/artifacts</td><td>2025-08-07T04:07:48.85Z</td><td>2025-08-07T04:07:54.09Z</td><td>0.5347489889735407</td><td>0.5095161848956116</td><td>0.7650224215246637</td><td>0.5647793116863332</td><td>gini</td><td>8</td><td>10</td><td>{\"cluster_name\":\"labuser11091541_1754532261\",\"spark_version\":\"16.3.x-cpu-ml-scala2.12\",\"node_type_id\":\"i3.xlarge\",\"driver_node_type_id\":\"i3.xlarge\",\"autotermination_minutes\":120,\"disk_spec\":{},\"num_workers\":0}</td><td>59eb4d82251647deb33f0f668e856997</td><td>labuser11091541_1754532261@vocareum.com</td><td>/Users/labuser11091541_1754532261@vocareum.com/machine-learning-model-development-2.1.4/M02 - Hyperparameter Tuning/2.2 Lab Solution - Hyperparameter Tuning with Optuna</td><td>Optuna Trial 0</td><td>#da4c4c</td><td>1754532603628_6841699981224735058_51395fde30134abb94f299931c04b150</td><td>dbc-8b9f7bce-656b.cloud.databricks.com</td><td>1754539674344</td><td>path=dbfs:/Volumes/dbacademy_telco/v01/telco/telco-customer-churn.csv,format=csv\n",
       "path=s3://unity-catalogs-us-west-2/metastore/3812518-root/1de8b107-0623-45f2-a2ab-de9793bf8c9f/tables/4f417dc7-994a-43f5-acfd-b3aa99ece837,version=0,format=delta</td><td>[{\"artifact_path\":\"lab_optuna_decision_tree_model\",\"flavors\":{\"python_function\":{\"predict_fn\":\"predict\",\"model_path\":\"model.pkl\",\"loader_module\":\"mlflow.sklearn\",\"env\":{\"conda\":\"conda.yaml\",\"virtualenv\":\"python_env.yaml\"},\"python_version\":\"3.12.3\"},\"sklearn\":{\"pickled_model\":\"model.pkl\",\"sklearn_version\":\"1.4.2\",\"serialization_format\":\"cloudpickle\",\"code\":null}},\"utc_time_created\":\"2025-08-07 04:07:49.286149\"}]</td><td>{\"installable\":[],\"redacted\":[]}</td><td>0807-020503-n8pcq51u</td><td>59eb4d82251647deb33f0f668e856997</td><td>4297320214104202</td><td>/Users/labuser11091541_1754532261@vocareum.com/machine-learning-model-development-2.1.4/M02 - Hyperparameter Tuning/2.2 Lab Solution - Hyperparameter Tuning with Optuna</td><td>182135318479115</td><td>https://oregon.cloud.databricks.com</td><td>NOTEBOOK</td></tr><tr><td>59eb4d82251647deb33f0f668e856997</td><td>4297320214106148</td><td>FINISHED</td><td>dbfs:/databricks/mlflow-tracking/4297320214106148/59eb4d82251647deb33f0f668e856997/artifacts</td><td>2025-08-07T04:07:48.568Z</td><td>2025-08-07T04:08:41.967Z</td><td>null</td><td>null</td><td>null</td><td>null</td><td>null</td><td>null</td><td>null</td><td>{\"cluster_name\":\"labuser11091541_1754532261\",\"spark_version\":\"16.3.x-cpu-ml-scala2.12\",\"node_type_id\":\"i3.xlarge\",\"driver_node_type_id\":\"i3.xlarge\",\"autotermination_minutes\":120,\"disk_spec\":{},\"num_workers\":0}</td><td>59eb4d82251647deb33f0f668e856997</td><td>labuser11091541_1754532261@vocareum.com</td><td>/Users/labuser11091541_1754532261@vocareum.com/machine-learning-model-development-2.1.4/M02 - Hyperparameter Tuning/2.2 Lab Solution - Hyperparameter Tuning with Optuna</td><td>Lab_Optuna_Hyperparameter_Optimization</td><td>#5387dd</td><td>1754532603628_6841699981224735058_51395fde30134abb94f299931c04b150</td><td>dbc-8b9f7bce-656b.cloud.databricks.com</td><td>1754539722391</td><td>path=dbfs:/Volumes/dbacademy_telco/v01/telco/telco-customer-churn.csv,format=csv\n",
       "path=s3://unity-catalogs-us-west-2/metastore/3812518-root/1de8b107-0623-45f2-a2ab-de9793bf8c9f/tables/4f417dc7-994a-43f5-acfd-b3aa99ece837,version=0,format=delta</td><td>null</td><td>{\"installable\":[],\"redacted\":[]}</td><td>0807-020503-n8pcq51u</td><td>null</td><td>4297320214104202</td><td>/Users/labuser11091541_1754532261@vocareum.com/machine-learning-model-development-2.1.4/M02 - Hyperparameter Tuning/2.2 Lab Solution - Hyperparameter Tuning with Optuna</td><td>182135318479115</td><td>https://oregon.cloud.databricks.com</td><td>NOTEBOOK</td></tr></tbody></table></div>"
      ]
     },
     "metadata": {
      "application/vnd.databricks.v1+output": {
       "addedWidgets": {},
       "aggData": [],
       "aggError": "",
       "aggOverflow": false,
       "aggSchema": [],
       "aggSeriesLimitReached": false,
       "aggType": "",
       "arguments": {},
       "columnCustomDisplayInfos": {},
       "data": [
        [
         "189c57bea9304d2ea085b25c8ee97790",
         "4297320214106148",
         "FINISHED",
         "dbfs:/databricks/mlflow-tracking/4297320214106148/189c57bea9304d2ea085b25c8ee97790/artifacts",
         "2025-08-07T04:08:36.781Z",
         "2025-08-07T04:08:41.828Z",
         0.48879679360692735,
         0.4864931874487805,
         0.729745889387145,
         0.49183582507704454,
         "log_loss",
         "9",
         "38",
         "{\"cluster_name\":\"labuser11091541_1754532261\",\"spark_version\":\"16.3.x-cpu-ml-scala2.12\",\"node_type_id\":\"i3.xlarge\",\"driver_node_type_id\":\"i3.xlarge\",\"autotermination_minutes\":120,\"disk_spec\":{},\"num_workers\":0}",
         "59eb4d82251647deb33f0f668e856997",
         "labuser11091541_1754532261@vocareum.com",
         "/Users/labuser11091541_1754532261@vocareum.com/machine-learning-model-development-2.1.4/M02 - Hyperparameter Tuning/2.2 Lab Solution - Hyperparameter Tuning with Optuna",
         "Optuna Trial 9",
         "#229487",
         "1754532603628_6841699981224735058_51395fde30134abb94f299931c04b150",
         "dbc-8b9f7bce-656b.cloud.databricks.com",
         "1754539721968",
         "path=dbfs:/Volumes/dbacademy_telco/v01/telco/telco-customer-churn.csv,format=csv\npath=s3://unity-catalogs-us-west-2/metastore/3812518-root/1de8b107-0623-45f2-a2ab-de9793bf8c9f/tables/4f417dc7-994a-43f5-acfd-b3aa99ece837,version=0,format=delta",
         "[{\"artifact_path\":\"lab_optuna_decision_tree_model\",\"flavors\":{\"python_function\":{\"predict_fn\":\"predict\",\"model_path\":\"model.pkl\",\"loader_module\":\"mlflow.sklearn\",\"env\":{\"conda\":\"conda.yaml\",\"virtualenv\":\"python_env.yaml\"},\"python_version\":\"3.12.3\"},\"sklearn\":{\"pickled_model\":\"model.pkl\",\"sklearn_version\":\"1.4.2\",\"serialization_format\":\"cloudpickle\",\"code\":null}},\"utc_time_created\":\"2025-08-07 04:08:37.203429\"}]",
         "{\"installable\":[],\"redacted\":[]}",
         "0807-020503-n8pcq51u",
         "59eb4d82251647deb33f0f668e856997",
         "4297320214104202",
         "/Users/labuser11091541_1754532261@vocareum.com/machine-learning-model-development-2.1.4/M02 - Hyperparameter Tuning/2.2 Lab Solution - Hyperparameter Tuning with Optuna",
         "182135318479115",
         "https://oregon.cloud.databricks.com",
         "NOTEBOOK"
        ],
        [
         "19f632fb547f4cd2b374b5365064b985",
         "4297320214106148",
         "FINISHED",
         "dbfs:/databricks/mlflow-tracking/4297320214106148/19f632fb547f4cd2b374b5365064b985/artifacts",
         "2025-08-07T04:08:31.679Z",
         "2025-08-07T04:08:36.52Z",
         0.5020483687653235,
         0.5078459316795461,
         0.732286995515695,
         0.4967086126250772,
         "entropy",
         "8",
         "37",
         "{\"cluster_name\":\"labuser11091541_1754532261\",\"spark_version\":\"16.3.x-cpu-ml-scala2.12\",\"node_type_id\":\"i3.xlarge\",\"driver_node_type_id\":\"i3.xlarge\",\"autotermination_minutes\":120,\"disk_spec\":{},\"num_workers\":0}",
         "59eb4d82251647deb33f0f668e856997",
         "labuser11091541_1754532261@vocareum.com",
         "/Users/labuser11091541_1754532261@vocareum.com/machine-learning-model-development-2.1.4/M02 - Hyperparameter Tuning/2.2 Lab Solution - Hyperparameter Tuning with Optuna",
         "Optuna Trial 8",
         "#5bc5db",
         "1754532603628_6841699981224735058_51395fde30134abb94f299931c04b150",
         "dbc-8b9f7bce-656b.cloud.databricks.com",
         "1754539716649",
         "path=dbfs:/Volumes/dbacademy_telco/v01/telco/telco-customer-churn.csv,format=csv\npath=s3://unity-catalogs-us-west-2/metastore/3812518-root/1de8b107-0623-45f2-a2ab-de9793bf8c9f/tables/4f417dc7-994a-43f5-acfd-b3aa99ece837,version=0,format=delta",
         "[{\"artifact_path\":\"lab_optuna_decision_tree_model\",\"flavors\":{\"python_function\":{\"predict_fn\":\"predict\",\"model_path\":\"model.pkl\",\"loader_module\":\"mlflow.sklearn\",\"env\":{\"conda\":\"conda.yaml\",\"virtualenv\":\"python_env.yaml\"},\"python_version\":\"3.12.3\"},\"sklearn\":{\"pickled_model\":\"model.pkl\",\"sklearn_version\":\"1.4.2\",\"serialization_format\":\"cloudpickle\",\"code\":null}},\"utc_time_created\":\"2025-08-07 04:08:32.070666\"}]",
         "{\"installable\":[],\"redacted\":[]}",
         "0807-020503-n8pcq51u",
         "59eb4d82251647deb33f0f668e856997",
         "4297320214104202",
         "/Users/labuser11091541_1754532261@vocareum.com/machine-learning-model-development-2.1.4/M02 - Hyperparameter Tuning/2.2 Lab Solution - Hyperparameter Tuning with Optuna",
         "182135318479115",
         "https://oregon.cloud.databricks.com",
         "NOTEBOOK"
        ],
        [
         "b27e67ba1fa949aaa7aefd98b2ede321",
         "4297320214106148",
         "FINISHED",
         "dbfs:/databricks/mlflow-tracking/4297320214106148/b27e67ba1fa949aaa7aefd98b2ede321/artifacts",
         "2025-08-07T04:08:26.461Z",
         "2025-08-07T04:08:31.423Z",
         0.4888887564561573,
         0.49212189347096597,
         0.7263079222720479,
         0.4857366037437891,
         "gini",
         "10",
         "38",
         "{\"cluster_name\":\"labuser11091541_1754532261\",\"spark_version\":\"16.3.x-cpu-ml-scala2.12\",\"node_type_id\":\"i3.xlarge\",\"driver_node_type_id\":\"i3.xlarge\",\"autotermination_minutes\":120,\"disk_spec\":{},\"num_workers\":0}",
         "59eb4d82251647deb33f0f668e856997",
         "labuser11091541_1754532261@vocareum.com",
         "/Users/labuser11091541_1754532261@vocareum.com/machine-learning-model-development-2.1.4/M02 - Hyperparameter Tuning/2.2 Lab Solution - Hyperparameter Tuning with Optuna",
         "Optuna Trial 7",
         "#edb732",
         "1754532603628_6841699981224735058_51395fde30134abb94f299931c04b150",
         "dbc-8b9f7bce-656b.cloud.databricks.com",
         "1754539711553",
         "path=dbfs:/Volumes/dbacademy_telco/v01/telco/telco-customer-churn.csv,format=csv\npath=s3://unity-catalogs-us-west-2/metastore/3812518-root/1de8b107-0623-45f2-a2ab-de9793bf8c9f/tables/4f417dc7-994a-43f5-acfd-b3aa99ece837,version=0,format=delta",
         "[{\"artifact_path\":\"lab_optuna_decision_tree_model\",\"flavors\":{\"python_function\":{\"predict_fn\":\"predict\",\"model_path\":\"model.pkl\",\"loader_module\":\"mlflow.sklearn\",\"env\":{\"conda\":\"conda.yaml\",\"virtualenv\":\"python_env.yaml\"},\"python_version\":\"3.12.3\"},\"sklearn\":{\"pickled_model\":\"model.pkl\",\"sklearn_version\":\"1.4.2\",\"serialization_format\":\"cloudpickle\",\"code\":null}},\"utc_time_created\":\"2025-08-07 04:08:26.902086\"}]",
         "{\"installable\":[],\"redacted\":[]}",
         "0807-020503-n8pcq51u",
         "59eb4d82251647deb33f0f668e856997",
         "4297320214104202",
         "/Users/labuser11091541_1754532261@vocareum.com/machine-learning-model-development-2.1.4/M02 - Hyperparameter Tuning/2.2 Lab Solution - Hyperparameter Tuning with Optuna",
         "182135318479115",
         "https://oregon.cloud.databricks.com",
         "NOTEBOOK"
        ],
        [
         "a5277cb67923409dbb31abc5bbce3c8b",
         "4297320214106148",
         "FINISHED",
         "dbfs:/databricks/mlflow-tracking/4297320214106148/a5277cb67923409dbb31abc5bbce3c8b/artifacts",
         "2025-08-07T04:08:21.258Z",
         "2025-08-07T04:08:26.188Z",
         0.49190324760218584,
         0.49379782460164695,
         0.7289985052316892,
         0.4905523288438103,
         "log_loss",
         "9",
         "44",
         "{\"cluster_name\":\"labuser11091541_1754532261\",\"spark_version\":\"16.3.x-cpu-ml-scala2.12\",\"node_type_id\":\"i3.xlarge\",\"driver_node_type_id\":\"i3.xlarge\",\"autotermination_minutes\":120,\"disk_spec\":{},\"num_workers\":0}",
         "59eb4d82251647deb33f0f668e856997",
         "labuser11091541_1754532261@vocareum.com",
         "/Users/labuser11091541_1754532261@vocareum.com/machine-learning-model-development-2.1.4/M02 - Hyperparameter Tuning/2.2 Lab Solution - Hyperparameter Tuning with Optuna",
         "Optuna Trial 6",
         "#c565c7",
         "1754532603628_6841699981224735058_51395fde30134abb94f299931c04b150",
         "dbc-8b9f7bce-656b.cloud.databricks.com",
         "1754539706331",
         "path=dbfs:/Volumes/dbacademy_telco/v01/telco/telco-customer-churn.csv,format=csv\npath=s3://unity-catalogs-us-west-2/metastore/3812518-root/1de8b107-0623-45f2-a2ab-de9793bf8c9f/tables/4f417dc7-994a-43f5-acfd-b3aa99ece837,version=0,format=delta",
         "[{\"artifact_path\":\"lab_optuna_decision_tree_model\",\"flavors\":{\"python_function\":{\"predict_fn\":\"predict\",\"model_path\":\"model.pkl\",\"loader_module\":\"mlflow.sklearn\",\"env\":{\"conda\":\"conda.yaml\",\"virtualenv\":\"python_env.yaml\"},\"python_version\":\"3.12.3\"},\"sklearn\":{\"pickled_model\":\"model.pkl\",\"sklearn_version\":\"1.4.2\",\"serialization_format\":\"cloudpickle\",\"code\":null}},\"utc_time_created\":\"2025-08-07 04:08:21.660545\"}]",
         "{\"installable\":[],\"redacted\":[]}",
         "0807-020503-n8pcq51u",
         "59eb4d82251647deb33f0f668e856997",
         "4297320214104202",
         "/Users/labuser11091541_1754532261@vocareum.com/machine-learning-model-development-2.1.4/M02 - Hyperparameter Tuning/2.2 Lab Solution - Hyperparameter Tuning with Optuna",
         "182135318479115",
         "https://oregon.cloud.databricks.com",
         "NOTEBOOK"
        ],
        [
         "5e027c7274e748b4ad35ea920428d681",
         "4297320214106148",
         "FINISHED",
         "dbfs:/databricks/mlflow-tracking/4297320214106148/5e027c7274e748b4ad35ea920428d681/artifacts",
         "2025-08-07T04:08:15.757Z",
         "2025-08-07T04:08:20.921Z",
         0.5130938172283945,
         0.5173990230201585,
         0.7390134529147981,
         0.5092658818985419,
         "log_loss",
         "7",
         "18",
         "{\"cluster_name\":\"labuser11091541_1754532261\",\"spark_version\":\"16.3.x-cpu-ml-scala2.12\",\"node_type_id\":\"i3.xlarge\",\"driver_node_type_id\":\"i3.xlarge\",\"autotermination_minutes\":120,\"disk_spec\":{},\"num_workers\":0}",
         "59eb4d82251647deb33f0f668e856997",
         "labuser11091541_1754532261@vocareum.com",
         "/Users/labuser11091541_1754532261@vocareum.com/machine-learning-model-development-2.1.4/M02 - Hyperparameter Tuning/2.2 Lab Solution - Hyperparameter Tuning with Optuna",
         "Optuna Trial 5",
         "#87cebf",
         "1754532603628_6841699981224735058_51395fde30134abb94f299931c04b150",
         "dbc-8b9f7bce-656b.cloud.databricks.com",
         "1754539701114",
         "path=dbfs:/Volumes/dbacademy_telco/v01/telco/telco-customer-churn.csv,format=csv\npath=s3://unity-catalogs-us-west-2/metastore/3812518-root/1de8b107-0623-45f2-a2ab-de9793bf8c9f/tables/4f417dc7-994a-43f5-acfd-b3aa99ece837,version=0,format=delta",
         "[{\"artifact_path\":\"lab_optuna_decision_tree_model\",\"flavors\":{\"python_function\":{\"predict_fn\":\"predict\",\"model_path\":\"model.pkl\",\"loader_module\":\"mlflow.sklearn\",\"env\":{\"conda\":\"conda.yaml\",\"virtualenv\":\"python_env.yaml\"},\"python_version\":\"3.12.3\"},\"sklearn\":{\"pickled_model\":\"model.pkl\",\"sklearn_version\":\"1.4.2\",\"serialization_format\":\"cloudpickle\",\"code\":null}},\"utc_time_created\":\"2025-08-07 04:08:16.219305\"}]",
         "{\"installable\":[],\"redacted\":[]}",
         "0807-020503-n8pcq51u",
         "59eb4d82251647deb33f0f668e856997",
         "4297320214104202",
         "/Users/labuser11091541_1754532261@vocareum.com/machine-learning-model-development-2.1.4/M02 - Hyperparameter Tuning/2.2 Lab Solution - Hyperparameter Tuning with Optuna",
         "182135318479115",
         "https://oregon.cloud.databricks.com",
         "NOTEBOOK"
        ],
        [
         "66257ffa8d0f470781925d672909c665",
         "4297320214106148",
         "FINISHED",
         "dbfs:/databricks/mlflow-tracking/4297320214106148/66257ffa8d0f470781925d672909c665/artifacts",
         "2025-08-07T04:08:10.543Z",
         "2025-08-07T04:08:15.498Z",
         0.4970622064126015,
         0.5061804100589935,
         0.7276532137518684,
         0.4885201373040247,
         "gini",
         "6",
         "46",
         "{\"cluster_name\":\"labuser11091541_1754532261\",\"spark_version\":\"16.3.x-cpu-ml-scala2.12\",\"node_type_id\":\"i3.xlarge\",\"driver_node_type_id\":\"i3.xlarge\",\"autotermination_minutes\":120,\"disk_spec\":{},\"num_workers\":0}",
         "59eb4d82251647deb33f0f668e856997",
         "labuser11091541_1754532261@vocareum.com",
         "/Users/labuser11091541_1754532261@vocareum.com/machine-learning-model-development-2.1.4/M02 - Hyperparameter Tuning/2.2 Lab Solution - Hyperparameter Tuning with Optuna",
         "Optuna Trial 4",
         "#e57439",
         "1754532603628_6841699981224735058_51395fde30134abb94f299931c04b150",
         "dbc-8b9f7bce-656b.cloud.databricks.com",
         "1754539695634",
         "path=dbfs:/Volumes/dbacademy_telco/v01/telco/telco-customer-churn.csv,format=csv\npath=s3://unity-catalogs-us-west-2/metastore/3812518-root/1de8b107-0623-45f2-a2ab-de9793bf8c9f/tables/4f417dc7-994a-43f5-acfd-b3aa99ece837,version=0,format=delta",
         "[{\"artifact_path\":\"lab_optuna_decision_tree_model\",\"flavors\":{\"python_function\":{\"predict_fn\":\"predict\",\"model_path\":\"model.pkl\",\"loader_module\":\"mlflow.sklearn\",\"env\":{\"conda\":\"conda.yaml\",\"virtualenv\":\"python_env.yaml\"},\"python_version\":\"3.12.3\"},\"sklearn\":{\"pickled_model\":\"model.pkl\",\"sklearn_version\":\"1.4.2\",\"serialization_format\":\"cloudpickle\",\"code\":null}},\"utc_time_created\":\"2025-08-07 04:08:10.950906\"}]",
         "{\"installable\":[],\"redacted\":[]}",
         "0807-020503-n8pcq51u",
         "59eb4d82251647deb33f0f668e856997",
         "4297320214104202",
         "/Users/labuser11091541_1754532261@vocareum.com/machine-learning-model-development-2.1.4/M02 - Hyperparameter Tuning/2.2 Lab Solution - Hyperparameter Tuning with Optuna",
         "182135318479115",
         "https://oregon.cloud.databricks.com",
         "NOTEBOOK"
        ],
        [
         "2bacaaaf8d584e92a40256e47c5a8b00",
         "4297320214106148",
         "FINISHED",
         "dbfs:/databricks/mlflow-tracking/4297320214106148/2bacaaaf8d584e92a40256e47c5a8b00/artifacts",
         "2025-08-07T04:08:05.039Z",
         "2025-08-07T04:08:10.261Z",
         0.49875085430788935,
         0.501112871264642,
         0.7321375186846039,
         0.49650374222975463,
         "gini",
         "5",
         "38",
         "{\"cluster_name\":\"labuser11091541_1754532261\",\"spark_version\":\"16.3.x-cpu-ml-scala2.12\",\"node_type_id\":\"i3.xlarge\",\"driver_node_type_id\":\"i3.xlarge\",\"autotermination_minutes\":120,\"disk_spec\":{},\"num_workers\":0}",
         "59eb4d82251647deb33f0f668e856997",
         "labuser11091541_1754532261@vocareum.com",
         "/Users/labuser11091541_1754532261@vocareum.com/machine-learning-model-development-2.1.4/M02 - Hyperparameter Tuning/2.2 Lab Solution - Hyperparameter Tuning with Optuna",
         "Optuna Trial 3",
         "#e87b9f",
         "1754532603628_6841699981224735058_51395fde30134abb94f299931c04b150",
         "dbc-8b9f7bce-656b.cloud.databricks.com",
         "1754539690506",
         "path=dbfs:/Volumes/dbacademy_telco/v01/telco/telco-customer-churn.csv,format=csv\npath=s3://unity-catalogs-us-west-2/metastore/3812518-root/1de8b107-0623-45f2-a2ab-de9793bf8c9f/tables/4f417dc7-994a-43f5-acfd-b3aa99ece837,version=0,format=delta",
         "[{\"artifact_path\":\"lab_optuna_decision_tree_model\",\"flavors\":{\"python_function\":{\"predict_fn\":\"predict\",\"model_path\":\"model.pkl\",\"loader_module\":\"mlflow.sklearn\",\"env\":{\"conda\":\"conda.yaml\",\"virtualenv\":\"python_env.yaml\"},\"python_version\":\"3.12.3\"},\"sklearn\":{\"pickled_model\":\"model.pkl\",\"sklearn_version\":\"1.4.2\",\"serialization_format\":\"cloudpickle\",\"code\":null}},\"utc_time_created\":\"2025-08-07 04:08:05.567596\"}]",
         "{\"installable\":[],\"redacted\":[]}",
         "0807-020503-n8pcq51u",
         "59eb4d82251647deb33f0f668e856997",
         "4297320214104202",
         "/Users/labuser11091541_1754532261@vocareum.com/machine-learning-model-development-2.1.4/M02 - Hyperparameter Tuning/2.2 Lab Solution - Hyperparameter Tuning with Optuna",
         "182135318479115",
         "https://oregon.cloud.databricks.com",
         "NOTEBOOK"
        ],
        [
         "6c1de4e822534437bc9b9435f3c4d0e2",
         "4297320214106148",
         "FINISHED",
         "dbfs:/databricks/mlflow-tracking/4297320214106148/6c1de4e822534437bc9b9435f3c4d0e2/artifacts",
         "2025-08-07T04:07:59.741Z",
         "2025-08-07T04:08:04.757Z",
         0.5318328810681657,
         0.5325637866391099,
         0.7508221225710016,
         0.5319827420618483,
         "entropy",
         "5",
         "16",
         "{\"cluster_name\":\"labuser11091541_1754532261\",\"spark_version\":\"16.3.x-cpu-ml-scala2.12\",\"node_type_id\":\"i3.xlarge\",\"driver_node_type_id\":\"i3.xlarge\",\"autotermination_minutes\":120,\"disk_spec\":{},\"num_workers\":0}",
         "59eb4d82251647deb33f0f668e856997",
         "labuser11091541_1754532261@vocareum.com",
         "/Users/labuser11091541_1754532261@vocareum.com/machine-learning-model-development-2.1.4/M02 - Hyperparameter Tuning/2.2 Lab Solution - Hyperparameter Tuning with Optuna",
         "Optuna Trial 2",
         "#7d54b2",
         "1754532603628_6841699981224735058_51395fde30134abb94f299931c04b150",
         "dbc-8b9f7bce-656b.cloud.databricks.com",
         "1754539684891",
         "path=dbfs:/Volumes/dbacademy_telco/v01/telco/telco-customer-churn.csv,format=csv\npath=s3://unity-catalogs-us-west-2/metastore/3812518-root/1de8b107-0623-45f2-a2ab-de9793bf8c9f/tables/4f417dc7-994a-43f5-acfd-b3aa99ece837,version=0,format=delta",
         "[{\"artifact_path\":\"lab_optuna_decision_tree_model\",\"flavors\":{\"python_function\":{\"predict_fn\":\"predict\",\"model_path\":\"model.pkl\",\"loader_module\":\"mlflow.sklearn\",\"env\":{\"conda\":\"conda.yaml\",\"virtualenv\":\"python_env.yaml\"},\"python_version\":\"3.12.3\"},\"sklearn\":{\"pickled_model\":\"model.pkl\",\"sklearn_version\":\"1.4.2\",\"serialization_format\":\"cloudpickle\",\"code\":null}},\"utc_time_created\":\"2025-08-07 04:08:00.155883\"}]",
         "{\"installable\":[],\"redacted\":[]}",
         "0807-020503-n8pcq51u",
         "59eb4d82251647deb33f0f668e856997",
         "4297320214104202",
         "/Users/labuser11091541_1754532261@vocareum.com/machine-learning-model-development-2.1.4/M02 - Hyperparameter Tuning/2.2 Lab Solution - Hyperparameter Tuning with Optuna",
         "182135318479115",
         "https://oregon.cloud.databricks.com",
         "NOTEBOOK"
        ],
        [
         "cf5500c8d2904e9c8f39b486ff738871",
         "4297320214106148",
         "FINISHED",
         "dbfs:/databricks/mlflow-tracking/4297320214106148/cf5500c8d2904e9c8f39b486ff738871/artifacts",
         "2025-08-07T04:07:54.367Z",
         "2025-08-07T04:07:59.471Z",
         0.5066239696273639,
         0.5089502860722647,
         0.7373692077727952,
         0.5055753042920798,
         "entropy",
         "9",
         "18",
         "{\"cluster_name\":\"labuser11091541_1754532261\",\"spark_version\":\"16.3.x-cpu-ml-scala2.12\",\"node_type_id\":\"i3.xlarge\",\"driver_node_type_id\":\"i3.xlarge\",\"autotermination_minutes\":120,\"disk_spec\":{},\"num_workers\":0}",
         "59eb4d82251647deb33f0f668e856997",
         "labuser11091541_1754532261@vocareum.com",
         "/Users/labuser11091541_1754532261@vocareum.com/machine-learning-model-development-2.1.4/M02 - Hyperparameter Tuning/2.2 Lab Solution - Hyperparameter Tuning with Optuna",
         "Optuna Trial 1",
         "#479a5f",
         "1754532603628_6841699981224735058_51395fde30134abb94f299931c04b150",
         "dbc-8b9f7bce-656b.cloud.databricks.com",
         "1754539679606",
         "path=dbfs:/Volumes/dbacademy_telco/v01/telco/telco-customer-churn.csv,format=csv\npath=s3://unity-catalogs-us-west-2/metastore/3812518-root/1de8b107-0623-45f2-a2ab-de9793bf8c9f/tables/4f417dc7-994a-43f5-acfd-b3aa99ece837,version=0,format=delta",
         "[{\"artifact_path\":\"lab_optuna_decision_tree_model\",\"flavors\":{\"python_function\":{\"predict_fn\":\"predict\",\"model_path\":\"model.pkl\",\"loader_module\":\"mlflow.sklearn\",\"env\":{\"conda\":\"conda.yaml\",\"virtualenv\":\"python_env.yaml\"},\"python_version\":\"3.12.3\"},\"sklearn\":{\"pickled_model\":\"model.pkl\",\"sklearn_version\":\"1.4.2\",\"serialization_format\":\"cloudpickle\",\"code\":null}},\"utc_time_created\":\"2025-08-07 04:07:54.803199\"}]",
         "{\"installable\":[],\"redacted\":[]}",
         "0807-020503-n8pcq51u",
         "59eb4d82251647deb33f0f668e856997",
         "4297320214104202",
         "/Users/labuser11091541_1754532261@vocareum.com/machine-learning-model-development-2.1.4/M02 - Hyperparameter Tuning/2.2 Lab Solution - Hyperparameter Tuning with Optuna",
         "182135318479115",
         "https://oregon.cloud.databricks.com",
         "NOTEBOOK"
        ],
        [
         "94feb8776dfa434f80c652fb42b70f40",
         "4297320214106148",
         "FINISHED",
         "dbfs:/databricks/mlflow-tracking/4297320214106148/94feb8776dfa434f80c652fb42b70f40/artifacts",
         "2025-08-07T04:07:48.85Z",
         "2025-08-07T04:07:54.09Z",
         0.5347489889735407,
         0.5095161848956116,
         0.7650224215246637,
         0.5647793116863332,
         "gini",
         "8",
         "10",
         "{\"cluster_name\":\"labuser11091541_1754532261\",\"spark_version\":\"16.3.x-cpu-ml-scala2.12\",\"node_type_id\":\"i3.xlarge\",\"driver_node_type_id\":\"i3.xlarge\",\"autotermination_minutes\":120,\"disk_spec\":{},\"num_workers\":0}",
         "59eb4d82251647deb33f0f668e856997",
         "labuser11091541_1754532261@vocareum.com",
         "/Users/labuser11091541_1754532261@vocareum.com/machine-learning-model-development-2.1.4/M02 - Hyperparameter Tuning/2.2 Lab Solution - Hyperparameter Tuning with Optuna",
         "Optuna Trial 0",
         "#da4c4c",
         "1754532603628_6841699981224735058_51395fde30134abb94f299931c04b150",
         "dbc-8b9f7bce-656b.cloud.databricks.com",
         "1754539674344",
         "path=dbfs:/Volumes/dbacademy_telco/v01/telco/telco-customer-churn.csv,format=csv\npath=s3://unity-catalogs-us-west-2/metastore/3812518-root/1de8b107-0623-45f2-a2ab-de9793bf8c9f/tables/4f417dc7-994a-43f5-acfd-b3aa99ece837,version=0,format=delta",
         "[{\"artifact_path\":\"lab_optuna_decision_tree_model\",\"flavors\":{\"python_function\":{\"predict_fn\":\"predict\",\"model_path\":\"model.pkl\",\"loader_module\":\"mlflow.sklearn\",\"env\":{\"conda\":\"conda.yaml\",\"virtualenv\":\"python_env.yaml\"},\"python_version\":\"3.12.3\"},\"sklearn\":{\"pickled_model\":\"model.pkl\",\"sklearn_version\":\"1.4.2\",\"serialization_format\":\"cloudpickle\",\"code\":null}},\"utc_time_created\":\"2025-08-07 04:07:49.286149\"}]",
         "{\"installable\":[],\"redacted\":[]}",
         "0807-020503-n8pcq51u",
         "59eb4d82251647deb33f0f668e856997",
         "4297320214104202",
         "/Users/labuser11091541_1754532261@vocareum.com/machine-learning-model-development-2.1.4/M02 - Hyperparameter Tuning/2.2 Lab Solution - Hyperparameter Tuning with Optuna",
         "182135318479115",
         "https://oregon.cloud.databricks.com",
         "NOTEBOOK"
        ],
        [
         "59eb4d82251647deb33f0f668e856997",
         "4297320214106148",
         "FINISHED",
         "dbfs:/databricks/mlflow-tracking/4297320214106148/59eb4d82251647deb33f0f668e856997/artifacts",
         "2025-08-07T04:07:48.568Z",
         "2025-08-07T04:08:41.967Z",
         null,
         null,
         null,
         null,
         null,
         null,
         null,
         "{\"cluster_name\":\"labuser11091541_1754532261\",\"spark_version\":\"16.3.x-cpu-ml-scala2.12\",\"node_type_id\":\"i3.xlarge\",\"driver_node_type_id\":\"i3.xlarge\",\"autotermination_minutes\":120,\"disk_spec\":{},\"num_workers\":0}",
         "59eb4d82251647deb33f0f668e856997",
         "labuser11091541_1754532261@vocareum.com",
         "/Users/labuser11091541_1754532261@vocareum.com/machine-learning-model-development-2.1.4/M02 - Hyperparameter Tuning/2.2 Lab Solution - Hyperparameter Tuning with Optuna",
         "Lab_Optuna_Hyperparameter_Optimization",
         "#5387dd",
         "1754532603628_6841699981224735058_51395fde30134abb94f299931c04b150",
         "dbc-8b9f7bce-656b.cloud.databricks.com",
         "1754539722391",
         "path=dbfs:/Volumes/dbacademy_telco/v01/telco/telco-customer-churn.csv,format=csv\npath=s3://unity-catalogs-us-west-2/metastore/3812518-root/1de8b107-0623-45f2-a2ab-de9793bf8c9f/tables/4f417dc7-994a-43f5-acfd-b3aa99ece837,version=0,format=delta",
         null,
         "{\"installable\":[],\"redacted\":[]}",
         "0807-020503-n8pcq51u",
         null,
         "4297320214104202",
         "/Users/labuser11091541_1754532261@vocareum.com/machine-learning-model-development-2.1.4/M02 - Hyperparameter Tuning/2.2 Lab Solution - Hyperparameter Tuning with Optuna",
         "182135318479115",
         "https://oregon.cloud.databricks.com",
         "NOTEBOOK"
        ]
       ],
       "datasetInfos": [],
       "dbfsResultPath": null,
       "isJsonSchema": true,
       "metadata": {},
       "overflow": false,
       "plotOptions": {
        "customPlotOptions": {},
        "displayType": "table",
        "pivotAggregation": null,
        "pivotColumns": null,
        "xColumns": null,
        "yColumns": null
       },
       "removedWidgets": [],
       "schema": [
        {
         "metadata": "{}",
         "name": "run_id",
         "type": "\"string\""
        },
        {
         "metadata": "{}",
         "name": "experiment_id",
         "type": "\"string\""
        },
        {
         "metadata": "{}",
         "name": "status",
         "type": "\"string\""
        },
        {
         "metadata": "{}",
         "name": "artifact_uri",
         "type": "\"string\""
        },
        {
         "metadata": "{}",
         "name": "start_time",
         "type": "\"timestamp\""
        },
        {
         "metadata": "{}",
         "name": "end_time",
         "type": "\"timestamp\""
        },
        {
         "metadata": "{}",
         "name": "metrics.f1",
         "type": "\"double\""
        },
        {
         "metadata": "{}",
         "name": "metrics.recall",
         "type": "\"double\""
        },
        {
         "metadata": "{}",
         "name": "metrics.accuracy",
         "type": "\"double\""
        },
        {
         "metadata": "{}",
         "name": "metrics.precision",
         "type": "\"double\""
        },
        {
         "metadata": "{}",
         "name": "params.criterion",
         "type": "\"string\""
        },
        {
         "metadata": "{}",
         "name": "params.max_features",
         "type": "\"string\""
        },
        {
         "metadata": "{}",
         "name": "params.max_depth",
         "type": "\"string\""
        },
        {
         "metadata": "{}",
         "name": "tags.mlflow.databricks.cluster.info",
         "type": "\"string\""
        },
        {
         "metadata": "{}",
         "name": "tags.mlflow.rootRunId",
         "type": "\"string\""
        },
        {
         "metadata": "{}",
         "name": "tags.mlflow.user",
         "type": "\"string\""
        },
        {
         "metadata": "{}",
         "name": "tags.mlflow.source.name",
         "type": "\"string\""
        },
        {
         "metadata": "{}",
         "name": "tags.mlflow.runName",
         "type": "\"string\""
        },
        {
         "metadata": "{}",
         "name": "tags.mlflow.runColor",
         "type": "\"string\""
        },
        {
         "metadata": "{}",
         "name": "tags.mlflow.databricks.notebook.commandID",
         "type": "\"string\""
        },
        {
         "metadata": "{}",
         "name": "tags.mlflow.databricks.workspaceURL",
         "type": "\"string\""
        },
        {
         "metadata": "{}",
         "name": "tags.mlflow.databricks.notebookRevisionID",
         "type": "\"string\""
        },
        {
         "metadata": "{}",
         "name": "tags.sparkDatasourceInfo",
         "type": "\"string\""
        },
        {
         "metadata": "{}",
         "name": "tags.mlflow.log-model.history",
         "type": "\"string\""
        },
        {
         "metadata": "{}",
         "name": "tags.mlflow.databricks.cluster.libraries",
         "type": "\"string\""
        },
        {
         "metadata": "{}",
         "name": "tags.mlflow.databricks.cluster.id",
         "type": "\"string\""
        },
        {
         "metadata": "{}",
         "name": "tags.mlflow.parentRunId",
         "type": "\"string\""
        },
        {
         "metadata": "{}",
         "name": "tags.mlflow.databricks.notebookID",
         "type": "\"string\""
        },
        {
         "metadata": "{}",
         "name": "tags.mlflow.databricks.notebookPath",
         "type": "\"string\""
        },
        {
         "metadata": "{}",
         "name": "tags.mlflow.databricks.workspaceID",
         "type": "\"string\""
        },
        {
         "metadata": "{}",
         "name": "tags.mlflow.databricks.webappURL",
         "type": "\"string\""
        },
        {
         "metadata": "{}",
         "name": "tags.mlflow.source.type",
         "type": "\"string\""
        }
       ],
       "type": "table"
      }
     },
     "output_type": "display_data"
    },
    {
     "output_type": "display_data",
     "data": {
      "text/plain": [
       "Databricks visualization. Run in Databricks to view."
      ]
     },
     "metadata": {
      "application/vnd.databricks.v1.subcommand+json": {
       "baseErrorDetails": null,
       "bindings": {},
       "collapsed": false,
       "command": "%python\n__backend_agg_display_orig = display\n__backend_agg_dfs = []\ndef __backend_agg_display_new(df):\n    __backend_agg_df_modules = [\"pandas.core.frame\", \"databricks.koalas.frame\", \"pyspark.sql.dataframe\", \"pyspark.pandas.frame\", \"pyspark.sql.connect.dataframe\"]\n    if (type(df).__module__ in __backend_agg_df_modules and type(df).__name__ == 'DataFrame') or isinstance(df, list):\n        __backend_agg_dfs.append(df)\n\ndisplay = __backend_agg_display_new\n\ndef __backend_agg_user_code_fn():\n    import base64\n    exec(base64.standard_b64decode(\"aW1wb3J0IG1sZmxvdwppbXBvcnQgcGFuZGFzIGFzIHBkCgojIyBEZWZpbmUgeW91ciBleHBlcmltZW50IG5hbWUgb3IgSUQKZXhwZXJpbWVudF9pZCA9IHBhcmVudF9ydW4uaW5mby5leHBlcmltZW50X2lkICMgUmVwbGFjZSB3aXRoIHlvdXIgYWN0dWFsIGV4cGVyaW1lbnQgSUQKCiMjIEZldGNoIGFsbCBydW5zIGZyb20gdGhlIGV4cGVyaW1lbnQKZGZfcnVucyA9IG1sZmxvdy5zZWFyY2hfcnVucygKICBleHBlcmltZW50X2lkcz1bZXhwZXJpbWVudF9pZF0KICApCgpkaXNwbGF5KGRmX3J1bnMp\").decode())\n\ntry:\n    # run user code\n    __backend_agg_user_code_fn()\n\n    #reset display function\n    display = __backend_agg_display_orig\n\n    if len(__backend_agg_dfs) > 0:\n        # create a temp view\n        if type(__backend_agg_dfs[0]).__module__ == \"databricks.koalas.frame\":\n            # koalas dataframe\n            __backend_agg_dfs[0].to_spark().createOrReplaceTempView(\"DatabricksView017b603\")\n        elif type(__backend_agg_dfs[0]).__module__ == \"pandas.core.frame\" or isinstance(__backend_agg_dfs[0], list):\n            # pandas dataframe\n            spark.createDataFrame(__backend_agg_dfs[0]).createOrReplaceTempView(\"DatabricksView017b603\")\n        else:\n            __backend_agg_dfs[0].createOrReplaceTempView(\"DatabricksView017b603\")\n        #run backend agg\n        display(spark.sql(\"\"\"WITH q AS (select * from DatabricksView017b603) SELECT `tags.mlflow.runName`,SUM(`metrics.precision`) `column_2bb22940551` FROM q GROUP BY `tags.mlflow.runName`\"\"\"))\n    else:\n        displayHTML(\"dataframe no longer exists. If you're using dataframe.display(), use display(dataframe) instead.\")\n\n\nfinally:\n    spark.sql(\"drop view if exists DatabricksView017b603\")\n    display = __backend_agg_display_orig\n    del __backend_agg_display_new\n    del __backend_agg_display_orig\n    del __backend_agg_dfs\n    del __backend_agg_user_code_fn\n\n",
       "commandTitle": "Visualization 1",
       "commandType": "auto",
       "commandVersion": 0,
       "commentThread": [],
       "commentsVisible": false,
       "contentSha256Hex": null,
       "customPlotOptions": {
        "redashChart": [
         {
          "key": "type",
          "value": "CHART"
         },
         {
          "key": "options",
          "value": {
           "alignYAxesAtZero": true,
           "coefficient": 1,
           "columnConfigurationMap": {
            "x": {
             "column": "tags.mlflow.runName",
             "id": "column_2bb22940549"
            },
            "y": [
             {
              "column": "metrics.precision",
              "id": "column_2bb22940551",
              "transform": "SUM"
             }
            ]
           },
           "dateTimeFormat": "DD/MM/YYYY HH:mm",
           "direction": {
            "type": "counterclockwise"
           },
           "error_y": {
            "type": "data",
            "visible": true
           },
           "globalSeriesType": "column",
           "hideXAxis": false,
           "isAggregationOn": true,
           "legend": {
            "traceorder": "normal"
           },
           "missingValuesAsZero": true,
           "numberFormat": "0,0.[00000]",
           "percentFormat": "0[.]00%",
           "series": {
            "error_y": {
             "type": "data",
             "visible": true
            },
            "stacking": null
           },
           "seriesOptions": {
            "column_2bb22940551": {
             "color": "#00A972",
             "type": "column",
             "yAxis": 0
            }
           },
           "showDataLabels": false,
           "sizemode": "diameter",
           "sortX": true,
           "sortY": true,
           "swappedAxes": true,
           "textFormat": "",
           "useAggregationsUi": true,
           "valuesOptions": {},
           "version": 2,
           "xAxis": {
            "labels": {
             "enabled": true
            },
            "type": "-"
           },
           "yAxis": [
            {
             "type": "-"
            },
            {
             "opposite": true,
             "type": "-"
            }
           ]
          }
         }
        ]
       },
       "datasetPreviewNameToCmdIdMap": {},
       "diffDeletes": [],
       "diffInserts": [],
       "displayType": "redashChart",
       "error": null,
       "errorDetails": null,
       "errorSummary": null,
       "errorTraceType": null,
       "finishTime": 0,
       "globalVars": {},
       "guid": "",
       "height": "auto",
       "hideCommandCode": false,
       "hideCommandResult": false,
       "iPythonMetadata": null,
       "inputWidgets": {},
       "isLockedInExamMode": false,
       "latestUser": "a user",
       "latestUserId": null,
       "listResultMetadata": null,
       "metadata": {},
       "nuid": "2f8332aa-4bb2-424b-8815-263682b7fc7b",
       "origId": 0,
       "parentHierarchy": [],
       "pivotAggregation": null,
       "pivotColumns": null,
       "position": 21.0,
       "resultDbfsErrorMessage": null,
       "resultDbfsStatus": "INLINED_IN_TREE",
       "results": null,
       "showCommandTitle": false,
       "startTime": 0,
       "state": "input",
       "streamStates": {},
       "subcommandOptions": {
        "queryPlan": {
         "groups": [
          {
           "column": "tags.mlflow.runName",
           "type": "column"
          }
         ],
         "selects": [
          {
           "column": "tags.mlflow.runName",
           "type": "column"
          },
          {
           "alias": "column_2bb22940551",
           "args": [
            {
             "column": "metrics.precision",
             "type": "column"
            }
           ],
           "function": "SUM",
           "type": "function"
          }
         ]
        }
       },
       "submitTime": 0,
       "subtype": "tableResultSubCmd.visualization",
       "tableResultIndex": 0,
       "tableResultSettingsMap": {},
       "useConsistentColors": false,
       "version": "CommandV1",
       "width": "auto",
       "workflows": [],
       "xColumns": null,
       "yColumns": null
      }
     },
     "output_type": "display_data"
    }
   ],
   "source": [
    "import mlflow\n",
    "import pandas as pd\n",
    "\n",
    "## Define your experiment name or ID\n",
    "experiment_id = parent_run.info.experiment_id # Replace with your actual experiment ID\n",
    "\n",
    "## Fetch all runs from the experiment\n",
    "df_runs = mlflow.search_runs(\n",
    "  experiment_ids=[experiment_id]\n",
    "  )\n",
    "\n",
    "display(df_runs)"
   ]
  },
  {
   "cell_type": "markdown",
   "metadata": {
    "application/vnd.databricks.v1+cell": {
     "cellMetadata": {},
     "inputWidgets": {},
     "nuid": "2f136f22-6aa4-41af-908e-3f6c8498a6dd",
     "showTitle": false,
     "tableResultSettingsMap": {},
     "title": ""
    }
   },
   "source": [
    "## Step 4. Find the Best Run Programmatically\n",
    "\n",
    "In this step you will find the best scores using the Optuna library to find the best value and parameter values. Additionally, you will use MLflow to find these values. \n",
    "\n",
    "#### Instructions\n",
    "1. Use the Optuna study to find the best precision score. \n",
    "1. Use the Optuna study to find the best hyperparameter values. \n",
    "1. Use the MLflow API to find the best run based on precision score."
   ]
  },
  {
   "cell_type": "code",
   "execution_count": 0,
   "metadata": {
    "application/vnd.databricks.v1+cell": {
     "cellMetadata": {
      "byteLimit": 2048000,
      "rowLimit": 10000
     },
     "inputWidgets": {},
     "nuid": "a72eda4a-e77f-4f06-bb44-8ffe98bc51f4",
     "showTitle": false,
     "tableResultSettingsMap": {},
     "title": ""
    }
   },
   "outputs": [
    {
     "output_type": "stream",
     "name": "stdout",
     "output_type": "stream",
     "text": [
      "Best hyperparameters: {'criterion': 'gini', 'max_depth': 10, 'max_features': 8}\nBest precision score: 0.5647793116863332\n"
     ]
    }
   ],
   "source": [
    "## Display the best hyperparameters and metric\n",
    "print(f\"Best hyperparameters: {study.best_params}\")\n",
    "print(f\"Best precision score: {study.best_value}\")"
   ]
  },
  {
   "cell_type": "code",
   "execution_count": 0,
   "metadata": {
    "application/vnd.databricks.v1+cell": {
     "cellMetadata": {
      "byteLimit": 2048000,
      "rowLimit": 10000
     },
     "inputWidgets": {},
     "nuid": "8b140a15-d668-4437-9765-ad6f02c37678",
     "showTitle": false,
     "tableResultSettingsMap": {},
     "title": ""
    }
   },
   "outputs": [
    {
     "output_type": "display_data",
     "data": {
      "text/html": [
       "<style scoped>\n",
       "  .table-result-container {\n",
       "    max-height: 300px;\n",
       "    overflow: auto;\n",
       "  }\n",
       "  table, th, td {\n",
       "    border: 1px solid black;\n",
       "    border-collapse: collapse;\n",
       "  }\n",
       "  th, td {\n",
       "    padding: 5px;\n",
       "  }\n",
       "  th {\n",
       "    text-align: left;\n",
       "  }\n",
       "</style><div class='table-result-container'><table class='table-result'><thead style='background-color: white'><tr><th>run_id</th><th>experiment_id</th><th>status</th><th>artifact_uri</th><th>start_time</th><th>end_time</th><th>metrics.f1</th><th>metrics.recall</th><th>metrics.accuracy</th><th>metrics.precision</th><th>params.criterion</th><th>params.max_features</th><th>params.max_depth</th><th>tags.mlflow.databricks.cluster.info</th><th>tags.mlflow.rootRunId</th><th>tags.mlflow.user</th><th>tags.mlflow.source.name</th><th>tags.mlflow.runName</th><th>tags.mlflow.runColor</th><th>tags.mlflow.databricks.notebook.commandID</th><th>tags.mlflow.databricks.workspaceURL</th><th>tags.mlflow.databricks.notebookRevisionID</th><th>tags.sparkDatasourceInfo</th><th>tags.mlflow.log-model.history</th><th>tags.mlflow.databricks.cluster.libraries</th><th>tags.mlflow.parentRunId</th><th>tags.mlflow.databricks.cluster.id</th><th>tags.mlflow.databricks.notebookID</th><th>tags.mlflow.databricks.notebookPath</th><th>tags.mlflow.databricks.workspaceID</th><th>tags.mlflow.databricks.webappURL</th><th>tags.mlflow.source.type</th></tr></thead><tbody><tr><td>2b5878c62ffe44e39cd529dc56616033</td><td>4297320214106148</td><td>FINISHED</td><td>dbfs:/databricks/mlflow-tracking/4297320214106148/2b5878c62ffe44e39cd529dc56616033/artifacts</td><td>2025-08-07T04:11:01.439Z</td><td>2025-08-07T04:11:06.443Z</td><td>0.5656753356212866</td><td>0.5449018950986347</td><td>0.7784753363228699</td><td>0.5909665044548491</td><td>entropy</td><td>6</td><td>8</td><td>{\"cluster_name\":\"labuser11091541_1754532261\",\"spark_version\":\"16.3.x-cpu-ml-scala2.12\",\"node_type_id\":\"i3.xlarge\",\"driver_node_type_id\":\"i3.xlarge\",\"autotermination_minutes\":120,\"disk_spec\":{},\"num_workers\":0}</td><td>a9057d0fc1d84658a649b4a326930e24</td><td>labuser11091541_1754532261@vocareum.com</td><td>/Users/labuser11091541_1754532261@vocareum.com/machine-learning-model-development-2.1.4/M02 - Hyperparameter Tuning/2.2 Lab - Hyperparameter Tuning with Optuna</td><td>Optuna Trial 7</td><td>#e87b9f</td><td>1754532603627_7527455431020846362_8b4a4edff31f42ba92202ed65116fb55</td><td>dbc-8b9f7bce-656b.cloud.databricks.com</td><td>1754539866584</td><td>path=dbfs:/Volumes/dbacademy_telco/v01/telco/telco-customer-churn.csv,format=csv\n",
       "path=s3://unity-catalogs-us-west-2/metastore/3812518-root/1de8b107-0623-45f2-a2ab-de9793bf8c9f/tables/7af8cd24-68b5-48a9-9fe1-b46710ca4781,version=0,format=delta</td><td>[{\"artifact_path\":\"lab_optuna_decision_tree_model\",\"flavors\":{\"python_function\":{\"predict_fn\":\"predict\",\"model_path\":\"model.pkl\",\"loader_module\":\"mlflow.sklearn\",\"env\":{\"conda\":\"conda.yaml\",\"virtualenv\":\"python_env.yaml\"},\"python_version\":\"3.12.3\"},\"sklearn\":{\"pickled_model\":\"model.pkl\",\"sklearn_version\":\"1.4.2\",\"serialization_format\":\"cloudpickle\",\"code\":null}},\"utc_time_created\":\"2025-08-07 04:11:01.825432\"}]</td><td>{\"installable\":[],\"redacted\":[]}</td><td>a9057d0fc1d84658a649b4a326930e24</td><td>0807-020503-n8pcq51u</td><td>4297320214104172</td><td>/Users/labuser11091541_1754532261@vocareum.com/machine-learning-model-development-2.1.4/M02 - Hyperparameter Tuning/2.2 Lab - Hyperparameter Tuning with Optuna</td><td>182135318479115</td><td>https://oregon.cloud.databricks.com</td><td>NOTEBOOK</td></tr></tbody></table></div>"
      ]
     },
     "metadata": {
      "application/vnd.databricks.v1+output": {
       "addedWidgets": {},
       "aggData": [],
       "aggError": "",
       "aggOverflow": false,
       "aggSchema": [],
       "aggSeriesLimitReached": false,
       "aggType": "",
       "arguments": {},
       "columnCustomDisplayInfos": {},
       "data": [
        [
         "2b5878c62ffe44e39cd529dc56616033",
         "4297320214106148",
         "FINISHED",
         "dbfs:/databricks/mlflow-tracking/4297320214106148/2b5878c62ffe44e39cd529dc56616033/artifacts",
         "2025-08-07T04:11:01.439Z",
         "2025-08-07T04:11:06.443Z",
         0.5656753356212866,
         0.5449018950986347,
         0.7784753363228699,
         0.5909665044548491,
         "entropy",
         "6",
         "8",
         "{\"cluster_name\":\"labuser11091541_1754532261\",\"spark_version\":\"16.3.x-cpu-ml-scala2.12\",\"node_type_id\":\"i3.xlarge\",\"driver_node_type_id\":\"i3.xlarge\",\"autotermination_minutes\":120,\"disk_spec\":{},\"num_workers\":0}",
         "a9057d0fc1d84658a649b4a326930e24",
         "labuser11091541_1754532261@vocareum.com",
         "/Users/labuser11091541_1754532261@vocareum.com/machine-learning-model-development-2.1.4/M02 - Hyperparameter Tuning/2.2 Lab - Hyperparameter Tuning with Optuna",
         "Optuna Trial 7",
         "#e87b9f",
         "1754532603627_7527455431020846362_8b4a4edff31f42ba92202ed65116fb55",
         "dbc-8b9f7bce-656b.cloud.databricks.com",
         "1754539866584",
         "path=dbfs:/Volumes/dbacademy_telco/v01/telco/telco-customer-churn.csv,format=csv\npath=s3://unity-catalogs-us-west-2/metastore/3812518-root/1de8b107-0623-45f2-a2ab-de9793bf8c9f/tables/7af8cd24-68b5-48a9-9fe1-b46710ca4781,version=0,format=delta",
         "[{\"artifact_path\":\"lab_optuna_decision_tree_model\",\"flavors\":{\"python_function\":{\"predict_fn\":\"predict\",\"model_path\":\"model.pkl\",\"loader_module\":\"mlflow.sklearn\",\"env\":{\"conda\":\"conda.yaml\",\"virtualenv\":\"python_env.yaml\"},\"python_version\":\"3.12.3\"},\"sklearn\":{\"pickled_model\":\"model.pkl\",\"sklearn_version\":\"1.4.2\",\"serialization_format\":\"cloudpickle\",\"code\":null}},\"utc_time_created\":\"2025-08-07 04:11:01.825432\"}]",
         "{\"installable\":[],\"redacted\":[]}",
         "a9057d0fc1d84658a649b4a326930e24",
         "0807-020503-n8pcq51u",
         "4297320214104172",
         "/Users/labuser11091541_1754532261@vocareum.com/machine-learning-model-development-2.1.4/M02 - Hyperparameter Tuning/2.2 Lab - Hyperparameter Tuning with Optuna",
         "182135318479115",
         "https://oregon.cloud.databricks.com",
         "NOTEBOOK"
        ]
       ],
       "datasetInfos": [],
       "dbfsResultPath": null,
       "isJsonSchema": true,
       "metadata": {},
       "overflow": false,
       "plotOptions": {
        "customPlotOptions": {},
        "displayType": "table",
        "pivotAggregation": null,
        "pivotColumns": null,
        "xColumns": null,
        "yColumns": null
       },
       "removedWidgets": [],
       "schema": [
        {
         "metadata": "{}",
         "name": "run_id",
         "type": "\"string\""
        },
        {
         "metadata": "{}",
         "name": "experiment_id",
         "type": "\"string\""
        },
        {
         "metadata": "{}",
         "name": "status",
         "type": "\"string\""
        },
        {
         "metadata": "{}",
         "name": "artifact_uri",
         "type": "\"string\""
        },
        {
         "metadata": "{}",
         "name": "start_time",
         "type": "\"timestamp\""
        },
        {
         "metadata": "{}",
         "name": "end_time",
         "type": "\"timestamp\""
        },
        {
         "metadata": "{}",
         "name": "metrics.f1",
         "type": "\"double\""
        },
        {
         "metadata": "{}",
         "name": "metrics.recall",
         "type": "\"double\""
        },
        {
         "metadata": "{}",
         "name": "metrics.accuracy",
         "type": "\"double\""
        },
        {
         "metadata": "{}",
         "name": "metrics.precision",
         "type": "\"double\""
        },
        {
         "metadata": "{}",
         "name": "params.criterion",
         "type": "\"string\""
        },
        {
         "metadata": "{}",
         "name": "params.max_features",
         "type": "\"string\""
        },
        {
         "metadata": "{}",
         "name": "params.max_depth",
         "type": "\"string\""
        },
        {
         "metadata": "{}",
         "name": "tags.mlflow.databricks.cluster.info",
         "type": "\"string\""
        },
        {
         "metadata": "{}",
         "name": "tags.mlflow.rootRunId",
         "type": "\"string\""
        },
        {
         "metadata": "{}",
         "name": "tags.mlflow.user",
         "type": "\"string\""
        },
        {
         "metadata": "{}",
         "name": "tags.mlflow.source.name",
         "type": "\"string\""
        },
        {
         "metadata": "{}",
         "name": "tags.mlflow.runName",
         "type": "\"string\""
        },
        {
         "metadata": "{}",
         "name": "tags.mlflow.runColor",
         "type": "\"string\""
        },
        {
         "metadata": "{}",
         "name": "tags.mlflow.databricks.notebook.commandID",
         "type": "\"string\""
        },
        {
         "metadata": "{}",
         "name": "tags.mlflow.databricks.workspaceURL",
         "type": "\"string\""
        },
        {
         "metadata": "{}",
         "name": "tags.mlflow.databricks.notebookRevisionID",
         "type": "\"string\""
        },
        {
         "metadata": "{}",
         "name": "tags.sparkDatasourceInfo",
         "type": "\"string\""
        },
        {
         "metadata": "{}",
         "name": "tags.mlflow.log-model.history",
         "type": "\"string\""
        },
        {
         "metadata": "{}",
         "name": "tags.mlflow.databricks.cluster.libraries",
         "type": "\"string\""
        },
        {
         "metadata": "{}",
         "name": "tags.mlflow.parentRunId",
         "type": "\"string\""
        },
        {
         "metadata": "{}",
         "name": "tags.mlflow.databricks.cluster.id",
         "type": "\"string\""
        },
        {
         "metadata": "{}",
         "name": "tags.mlflow.databricks.notebookID",
         "type": "\"string\""
        },
        {
         "metadata": "{}",
         "name": "tags.mlflow.databricks.notebookPath",
         "type": "\"string\""
        },
        {
         "metadata": "{}",
         "name": "tags.mlflow.databricks.workspaceID",
         "type": "\"string\""
        },
        {
         "metadata": "{}",
         "name": "tags.mlflow.databricks.webappURL",
         "type": "\"string\""
        },
        {
         "metadata": "{}",
         "name": "tags.mlflow.source.type",
         "type": "\"string\""
        }
       ],
       "type": "table"
      }
     },
     "output_type": "display_data"
    }
   ],
   "source": [
    "search_runs_pd = (mlflow.search_runs(\n",
    "    experiment_ids=[experiment_id],\n",
    "    order_by=[\"metrics.precision DESC\"],\n",
    "    max_results=1))\n",
    "\n",
    "## convert search_runs_pd to pyspark dataframe\n",
    "search_runs_sd = spark.createDataFrame(search_runs_pd)\n",
    "display(search_runs_pd)"
   ]
  },
  {
   "cell_type": "markdown",
   "metadata": {
    "application/vnd.databricks.v1+cell": {
     "cellMetadata": {},
     "inputWidgets": {},
     "nuid": "fd36edce-a773-448e-8fce-77e2522096a8",
     "showTitle": false,
     "tableResultSettingsMap": {},
     "title": ""
    }
   },
   "source": [
    "## Load the Best Model and Parameters and Register to Unity Catalog\n",
    "\n",
    "#### Instructions:\n",
    "1. Either use the results from above to copy and paste the run_id and experiment_id below or perform this task programmatically using `.collect()` on the `search_runs` PySpark DataFrame. \n",
    "1. Load the model from MLflow.\n",
    "1. Display the results for the best model and parameters."
   ]
  },
  {
   "cell_type": "code",
   "execution_count": 0,
   "metadata": {
    "application/vnd.databricks.v1+cell": {
     "cellMetadata": {
      "byteLimit": 2048000,
      "rowLimit": 10000
     },
     "inputWidgets": {},
     "nuid": "c7fdaad6-8bf2-4ce9-ac55-ea61c54792bc",
     "showTitle": false,
     "tableResultSettingsMap": {},
     "title": ""
    }
   },
   "outputs": [
    {
     "output_type": "stream",
     "name": "stdout",
     "output_type": "stream",
     "text": [
      "Run ID: 2b5878c62ffe44e39cd529dc56616033\nExperiment ID: 4297320214106148\n"
     ]
    }
   ],
   "source": [
    "## Get the string value from run_id and experiment_id from PySpark DataFrame hpo_runs_df\n",
    "run_id = search_runs_sd.select(\"run_id\").collect()[0][0]\n",
    "experiment_id = search_runs_sd.select(\"experiment_id\").collect()[0][0]\n",
    "\n",
    "print(f\"Run ID: {run_id}\")\n",
    "print(f\"Experiment ID: {experiment_id}\")"
   ]
  },
  {
   "cell_type": "code",
   "execution_count": 0,
   "metadata": {
    "application/vnd.databricks.v1+cell": {
     "cellMetadata": {},
     "inputWidgets": {},
     "nuid": "b89aa11c-fcb1-448a-a782-27205e90abe0",
     "showTitle": false,
     "tableResultSettingsMap": {},
     "title": ""
    }
   },
   "outputs": [],
   "source": [
    "import mlflow\n",
    "import json\n",
    "from mlflow.models import Model\n",
    "\n",
    "## Grab an input example from the test set\n",
    "input_example = X_test.iloc[[0]]\n",
    "\n",
    "model_path = f\"dbfs:/databricks/mlflow-tracking/{experiment_id}/{run_id}/artifacts/lab_optuna_decision_tree_model\"\n",
    "\n",
    "## Load the model using the run ID\n",
    "loaded_model = mlflow.pyfunc.load_model(model_path)\n",
    "\n",
    "## Retrieve model parameters MLflow client and get_run() method\n",
    "client = mlflow.tracking.MlflowClient()\n",
    "params = client.get_run(run_id).data.params\n",
    "\n",
    "## Display model parameters\n",
    "print(\"Best Model Parameters:\")\n",
    "print(json.dumps(params, indent=4))"
   ]
  },
  {
   "cell_type": "markdown",
   "metadata": {
    "application/vnd.databricks.v1+cell": {
     "cellMetadata": {},
     "inputWidgets": {},
     "nuid": "bd9a66ad-3cda-48f3-b216-8c891b883688",
     "showTitle": false,
     "tableResultSettingsMap": {},
     "title": ""
    }
   },
   "source": [
    "### Register the Model to Unity Catalog\n",
    "\n",
    "Register your model to Unity Catalog under the name `lab_optuna_model`. \n",
    "\n",
    "> _You can get the catalog name and schema name using `DA.catalog_name` and `DA.schema_name`, respectively._"
   ]
  },
  {
   "cell_type": "code",
   "execution_count": 0,
   "metadata": {
    "application/vnd.databricks.v1+cell": {
     "cellMetadata": {
      "byteLimit": 2048000,
      "rowLimit": 10000
     },
     "inputWidgets": {},
     "nuid": "fb0b1978-2d2c-4501-8eb7-54d7734dea46",
     "showTitle": false,
     "tableResultSettingsMap": {},
     "title": ""
    }
   },
   "outputs": [
    {
     "output_type": "stream",
     "name": "stderr",
     "output_type": "stream",
     "text": [
      "Registered model 'dbacademy.labuser11091541_1754532261.lab_optuna_model' already exists. Creating a new version of this model...\n"
     ]
    },
    {
     "output_type": "display_data",
     "data": {
      "application/vnd.jupyter.widget-view+json": {
       "model_id": "7f045d98ff614383ae93952724a2123e",
       "version_major": 2,
       "version_minor": 0
      },
      "text/plain": [
       "Downloading artifacts:   0%|          | 0/11 [00:00<?, ?it/s]"
      ]
     },
     "metadata": {},
     "output_type": "display_data"
    },
    {
     "output_type": "display_data",
     "data": {
      "application/vnd.jupyter.widget-view+json": {
       "model_id": "3ef40a35609042c8b80f1fbf155e648f",
       "version_major": 2,
       "version_minor": 0
      },
      "text/plain": [
       "Uploading artifacts:   0%|          | 0/11 [00:00<?, ?it/s]"
      ]
     },
     "metadata": {},
     "output_type": "display_data"
    },
    {
     "output_type": "stream",
     "name": "stderr",
     "output_type": "stream",
     "text": [
      "Created version '2' of model 'dbacademy.labuser11091541_1754532261.lab_optuna_model'.\n"
     ]
    },
    {
     "output_type": "execute_result",
     "data": {
      "text/plain": [
       "<ModelVersion: aliases=[], creation_timestamp=1754540472673, current_stage=None, description='', last_updated_timestamp=1754540473634, name='dbacademy.labuser11091541_1754532261.lab_optuna_model', run_id='2b5878c62ffe44e39cd529dc56616033', run_link=None, source='dbfs:/databricks/mlflow-tracking/4297320214106148/2b5878c62ffe44e39cd529dc56616033/artifacts/lab_optuna_decision_tree_model', status='READY', status_message='', tags={}, user_id='labuser11091541_1754532261@vocareum.com', version='2'>"
      ]
     },
     "execution_count": 14,
     "metadata": {},
     "output_type": "execute_result"
    }
   ],
   "source": [
    "mlflow.set_registry_uri(\"databricks-uc\")\n",
    "model_uri = f'runs:/{run_id}/lab_optuna_decision_tree_model'\n",
    "mlflow.register_model(model_uri=model_uri, name=f\"{DA.catalog_name}.{DA.schema_name}.lab_optuna_model\")"
   ]
  },
  {
   "cell_type": "markdown",
   "metadata": {
    "application/vnd.databricks.v1+cell": {
     "cellMetadata": {},
     "inputWidgets": {},
     "nuid": "39a7a2aa-27c6-4b4e-969a-c6e3737667ee",
     "showTitle": false,
     "tableResultSettingsMap": {},
     "title": ""
    }
   },
   "source": [
    "\n",
    "## Conclusion\n",
    "\n",
    "In this lab, you learned about Optuna and how to integrate Optuna trials and studies with MLflow. You also demonstrated the ability to programmatically and visually inspect the best trial. Finally, you showed how to load the MLflow model and register it to Unity Catalog."
   ]
  },
  {
   "cell_type": "markdown",
   "metadata": {
    "application/vnd.databricks.v1+cell": {
     "cellMetadata": {},
     "inputWidgets": {},
     "nuid": "edde7797-cdb4-4fcb-ae08-0badecc7a9d4",
     "showTitle": false,
     "tableResultSettingsMap": {},
     "title": ""
    }
   },
   "source": [
    "\n",
    "&copy; 2025 Databricks, Inc. All rights reserved. Apache, Apache Spark, Spark, the Spark Logo, Apache Iceberg, Iceberg, and the Apache Iceberg logo are trademarks of the <a href=\"https://www.apache.org/\" target=\"blank\">Apache Software Foundation</a>.<br/>\n",
    "<br/><a href=\"https://databricks.com/privacy-policy\" target=\"blank\">Privacy Policy</a> | \n",
    "<a href=\"https://databricks.com/terms-of-use\" target=\"blank\">Terms of Use</a> | \n",
    "<a href=\"https://help.databricks.com/\" target=\"blank\">Support</a>"
   ]
  },
  {
   "cell_type": "code",
   "execution_count": 0,
   "metadata": {
    "application/vnd.databricks.v1+cell": {
     "cellMetadata": {},
     "inputWidgets": {},
     "nuid": "01daeb6b-4452-4e32-ab18-f3d358d8b597",
     "showTitle": false,
     "tableResultSettingsMap": {},
     "title": ""
    }
   },
   "outputs": [],
   "source": []
  }
 ],
 "metadata": {
  "application/vnd.databricks.v1+notebook": {
   "computePreferences": null,
   "dashboards": [],
   "environmentMetadata": null,
   "inputWidgetPreferences": null,
   "language": "python",
   "notebookMetadata": {
    "pythonIndentUnit": 4
   },
   "notebookName": "2.2 Lab Solution - Hyperparameter Tuning with Optuna",
   "widgets": {}
  },
  "language_info": {
   "name": "python"
  }
 },
 "nbformat": 4,
 "nbformat_minor": 0
}